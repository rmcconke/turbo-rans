{
 "cells": [
  {
   "cell_type": "code",
   "execution_count": 1,
   "id": "a6119c18-93b0-47c7-a8e4-1228bd90b5d0",
   "metadata": {},
   "outputs": [],
   "source": [
    "from bayes_opt import BayesianOptimization\n",
    "from bayes_opt import UtilityFunction\n",
    "from bayes_opt.logger import JSONLogger\n",
    "from bayes_opt.event import Events\n",
    "from bayes_opt.util import load_logs\n",
    "import openfoamparser as Ofpp\n",
    "#from dataFoam.utilities.foamIO import readFoam\n",
    "import fileinput\n",
    "import sys\n",
    "import os\n",
    "import subprocess\n",
    "import numpy as np\n",
    "import pprint\n",
    "import matplotlib.pyplot as plt\n",
    "import pandas as pd\n",
    "from sklearn.metrics import mean_squared_error\n",
    "\n",
    "from suggest_coeffs import suggest\n",
    "from update_history import register_score\n",
    "from utilities.json_io import load_suggestion\n",
    "from utilities.control import initialize"
   ]
  },
  {
   "cell_type": "code",
   "execution_count": 2,
   "id": "c9ac15a7-6208-4323-9ddc-82141c828671",
   "metadata": {},
   "outputs": [],
   "source": [
    "def black_box_function_sim_dummy(coef):\n",
    "    result = sum(coef.values())\n",
    "    return result +np.random.uniform(0.01,0.1)\n",
    "\n",
    "def black_box_function_sim_dummy_test(coef,refdf):\n",
    "    result = coef\n",
    "    return result #+np.random.uniform(0.01,0.1)\n",
    "\n",
    "def black_box_function_sim(coeffs, refdf):\n",
    "    \"\"\"Function with unknown internals we wish to maximize.\n",
    "\n",
    "    This is just serving as an example, for all intents and\n",
    "    purposes think of the internals of this function, i.e.: the process\n",
    "    which generates its output values, as unknown.\n",
    "    \"\"\"\n",
    "    set_foam_coef(coeffs)\n",
    "    run_foam_sim()\n",
    "    goal = -foam_mse(ref_df)\n",
    "    return goal\n",
    "\n",
    "def set_foam_coef(coeffs):\n",
    "    for coef in coeffs:\n",
    "        entry = coef\n",
    "        value = coeffs[coef]\n",
    "        # Changes an entry in the system/dict_name to be value\n",
    "        #print('Setting new foam coef: ' + str(a1))\n",
    "        for line in fileinput.input('foam/case_1p0/constant/turbulenceProperties', inplace=True):\n",
    "            if line.strip().startswith(entry):\n",
    "                line = '\\t'+entry+'\\t'+ str(value) + ';\\n'\n",
    "            sys.stdout.write(line)\n",
    "    return\n",
    "\n",
    "def run_foam_sim():\n",
    "    print('Running foam sim....')\n",
    "    subprocess.check_call('sh '+' foam/case_1p0/Runsim', shell=True)\n",
    "    return\n",
    "\n",
    "\n",
    "def foam_mse(ref_df):\n",
    "    U_sim = Ofpp.parse_internal_field('foam/case_1p0/5000/U')[:,0:2]\n",
    "    mse = mean_squared_error(ref_df[['Ux','Uy']].values,U_sim)\n",
    "    print('MSE: '+ str(mse))\n",
    "    return mse\n"
   ]
  },
  {
   "cell_type": "code",
   "execution_count": 28,
   "id": "a376b23d-9ff1-48e7-aa63-06d3c7ebd028",
   "metadata": {},
   "outputs": [
    {
     "name": "stdout",
     "output_type": "stream",
     "text": [
      "             Ux            Uy   Uz\n",
      "0      0.001578 -1.385990e-07  0.0\n",
      "1      0.001580 -8.801270e-08  0.0\n",
      "2      0.001580  1.193190e-07  0.0\n",
      "3      0.001577  8.784120e-08  0.0\n",
      "4      0.001571  3.031190e-07  0.0\n",
      "...         ...           ...  ...\n",
      "14746 -0.000105  7.451490e-05  0.0\n",
      "14747 -0.000097  4.489720e-05  0.0\n",
      "14748 -0.000038  9.989710e-07  0.0\n",
      "14749  0.000150 -2.555680e-06  0.0\n",
      "14750  0.000153  1.620930e-06  0.0\n",
      "\n",
      "[14751 rows x 3 columns]\n",
      "MSE: 1.1712847622206636e-06\n"
     ]
    },
    {
     "data": {
      "text/plain": [
       "1.1712847622206636e-06"
      ]
     },
     "execution_count": 28,
     "metadata": {},
     "output_type": "execute_result"
    }
   ],
   "source": [
    "ref_df = pd.read_csv('foam/case_1p0/ref/refdata.csv')\n",
    "print(ref_df[['Ux','Uy','Uz']])\n",
    "foam_mse(ref_df)"
   ]
  },
  {
   "cell_type": "code",
   "execution_count": 3,
   "id": "23ef38c0-7f69-424b-a549-e2e0c261f192",
   "metadata": {},
   "outputs": [],
   "source": [
    "coef = {\n",
    "    #'alphaK1': (0.75,0.95),\n",
    "    #'alphaK2': (0.9,1.1),\n",
    "    #'alphaOmega1': (0.4, 0.6),\n",
    "    #'alphaOmega2': (0.75, 0.95),\n",
    "    #'gamma1': (0.4, 0.6),\n",
    "    #'gamma2': (0.35, 0.55),\n",
    "    #'beta1': (0.065, 0.085),\n",
    "    #'beta2': (0.075, 0.095),\n",
    "    'a1': (0.2,0.5),\n",
    "}\n",
    "\n",
    "default_coef = {\n",
    "    #'alphaK1': (0.75,0.95),\n",
    "    #'alphaK2': (0.9,1.1),\n",
    "    #'alphaOmega1': (0.4, 0.6),\n",
    "    #'alphaOmega2': (0.75, 0.95),\n",
    "    #'gamma1': (0.4, 0.6),\n",
    "    #'gamma2': (0.35, 0.55),\n",
    "    #'beta1': (0.065, 0.085),\n",
    "    #'beta2': (0.075, 0.095),\n",
    "    'a1': 0.31,\n",
    "}\n"
   ]
  },
  {
   "cell_type": "code",
   "execution_count": 8,
   "id": "489129b9-ae2f-487c-8204-6bfd736a21e9",
   "metadata": {
    "scrolled": true,
    "tags": []
   },
   "outputs": [
    {
     "name": "stdout",
     "output_type": "stream",
     "text": [
      "Saving coeff_bounds to foam/case_1p0/tuner/coeff_bounds.json\n",
      "Saving suggestion to foam/case_1p0/tuner/suggestion.json\n",
      "Registering score in foam/case_1p0/tuner/history.json\n",
      "Saving suggestion to foam/case_1p0/tuner/suggestion.json\n",
      "Registering score in foam/case_1p0/tuner/history.json\n",
      "Saving suggestion to foam/case_1p0/tuner/suggestion.json\n",
      "Registering score in foam/case_1p0/tuner/history.json\n",
      "Saving suggestion to foam/case_1p0/tuner/suggestion.json\n",
      "Registering score in foam/case_1p0/tuner/history.json\n",
      "Saving suggestion to foam/case_1p0/tuner/suggestion.json\n",
      "Registering score in foam/case_1p0/tuner/history.json\n",
      "Saving suggestion to foam/case_1p0/tuner/suggestion.json\n",
      "Registering score in foam/case_1p0/tuner/history.json\n",
      "Saving suggestion to foam/case_1p0/tuner/suggestion.json\n",
      "Registering score in foam/case_1p0/tuner/history.json\n",
      "Saving suggestion to foam/case_1p0/tuner/suggestion.json\n",
      "Registering score in foam/case_1p0/tuner/history.json\n",
      "Saving suggestion to foam/case_1p0/tuner/suggestion.json\n",
      "Registering score in foam/case_1p0/tuner/history.json\n",
      "Saving suggestion to foam/case_1p0/tuner/suggestion.json\n",
      "Registering score in foam/case_1p0/tuner/history.json\n",
      "Saving suggestion to foam/case_1p0/tuner/suggestion.json\n",
      "Registering score in foam/case_1p0/tuner/history.json\n",
      "Saving suggestion to foam/case_1p0/tuner/suggestion.json\n",
      "Registering score in foam/case_1p0/tuner/history.json\n",
      "Saving suggestion to foam/case_1p0/tuner/suggestion.json\n",
      "Registering score in foam/case_1p0/tuner/history.json\n",
      "Saving suggestion to foam/case_1p0/tuner/suggestion.json\n",
      "Registering score in foam/case_1p0/tuner/history.json\n",
      "Saving suggestion to foam/case_1p0/tuner/suggestion.json\n",
      "Registering score in foam/case_1p0/tuner/history.json\n",
      "Saving suggestion to foam/case_1p0/tuner/suggestion.json\n",
      "Registering score in foam/case_1p0/tuner/history.json\n",
      "Saving suggestion to foam/case_1p0/tuner/suggestion.json\n",
      "Registering score in foam/case_1p0/tuner/history.json\n",
      "Saving suggestion to foam/case_1p0/tuner/suggestion.json\n",
      "Registering score in foam/case_1p0/tuner/history.json\n",
      "Saving suggestion to foam/case_1p0/tuner/suggestion.json\n",
      "Registering score in foam/case_1p0/tuner/history.json\n",
      "Saving suggestion to foam/case_1p0/tuner/suggestion.json\n",
      "Registering score in foam/case_1p0/tuner/history.json\n",
      "Saving suggestion to foam/case_1p0/tuner/suggestion.json\n",
      "Registering score in foam/case_1p0/tuner/history.json\n",
      "Saving suggestion to foam/case_1p0/tuner/suggestion.json\n",
      "Registering score in foam/case_1p0/tuner/history.json\n",
      "Saving suggestion to foam/case_1p0/tuner/suggestion.json\n",
      "Registering score in foam/case_1p0/tuner/history.json\n",
      "Saving suggestion to foam/case_1p0/tuner/suggestion.json\n",
      "Registering score in foam/case_1p0/tuner/history.json\n",
      "Saving suggestion to foam/case_1p0/tuner/suggestion.json\n",
      "Registering score in foam/case_1p0/tuner/history.json\n"
     ]
    }
   ],
   "source": [
    "directory = 'foam/case_1p0/tuner'\n",
    "initialize(directory = directory,\n",
    "           coeff_bounds = coef,\n",
    "           restart = False)\n",
    "for i in range(25):\n",
    "    suggest(directory = directory,\n",
    "                           random_state=7)\n",
    "    search_point = load_suggestion(directory = directory)\n",
    "    target = black_box_function_sim_dummy(search_point)\n",
    "    register_score(score=target, directory = directory)\n",
    "    "
   ]
  },
  {
   "cell_type": "code",
   "execution_count": 29,
   "id": "e9f7ceba-2c15-4c5f-88f0-1c8170f986e4",
   "metadata": {
    "scrolled": true,
    "tags": []
   },
   "outputs": [
    {
     "name": "stdout",
     "output_type": "stream",
     "text": [
      "Running foam sim....\n",
      "    Reading vector: foam/case_1p0/5000/U\n",
      "    Found a mesh with number of cells: 14751\n",
      "    Reading vector: foam/case_1p0/ref/U\n",
      "    Found a mesh with number of cells: 14751\n",
      "MSE: 6.790276934434617e-06\n",
      "{'a1': 0.5}\n",
      "Running foam sim....\n",
      "    Reading vector: foam/case_1p0/5000/U\n",
      "    Found a mesh with number of cells: 14751\n",
      "    Reading vector: foam/case_1p0/ref/U\n",
      "    Found a mesh with number of cells: 14751\n",
      "MSE: 1.9150669816223427e-06\n",
      "Result: -1.9150669816223427e-06\n",
      "{'a1': 0.49998212134481207}\n",
      "Running foam sim....\n",
      "    Reading vector: foam/case_1p0/5000/U\n",
      "    Found a mesh with number of cells: 14751\n",
      "    Reading vector: foam/case_1p0/ref/U\n",
      "    Found a mesh with number of cells: 14751\n",
      "MSE: 1.915067461050295e-06\n",
      "Result: -1.915067461050295e-06\n",
      "{'a1': 0.4340547881246567}\n",
      "Running foam sim....\n",
      "    Reading vector: foam/case_1p0/5000/U\n",
      "    Found a mesh with number of cells: 14751\n",
      "    Reading vector: foam/case_1p0/ref/U\n",
      "    Found a mesh with number of cells: 14751\n",
      "MSE: 1.933769764655924e-06\n",
      "Result: -1.933769764655924e-06\n",
      "{'a1': 0.2}\n",
      "Running foam sim....\n",
      "    Reading vector: foam/case_1p0/5000/U\n",
      "    Found a mesh with number of cells: 14751\n",
      "    Reading vector: foam/case_1p0/ref/U\n",
      "    Found a mesh with number of cells: 14751\n",
      "MSE: 3.84890101846269e-05\n",
      "Result: -3.84890101846269e-05\n",
      "{'a1': 0.3715420479908909}\n",
      "Running foam sim....\n",
      "    Reading vector: foam/case_1p0/5000/U\n",
      "    Found a mesh with number of cells: 14751\n",
      "    Reading vector: foam/case_1p0/ref/U\n",
      "    Found a mesh with number of cells: 14751\n",
      "MSE: 2.176581246055317e-06\n",
      "Result: -2.176581246055317e-06\n",
      "{'target': -1.9150669816223427e-06, 'params': {'a1': 0.5}}\n"
     ]
    }
   ],
   "source": [
    "logger = JSONLogger(path=\"./logs.json\")\n",
    "optimizer = BayesianOptimization(\n",
    "    f=None,\n",
    "    pbounds=coef,\n",
    "    verbose=2,\n",
    "    random_state=7,\n",
    ")\n",
    "optimizer.subscribe(Events.OPTIMIZATION_STEP, logger)\n",
    "\n",
    "utility = UtilityFunction(kind=\"ucb\", kappa=2.5, xi=0.0)\n",
    "\n",
    "optimizer.register(params=default_coef, target=black_box_function_sim(default_coef))\n",
    "for i in range(5):\n",
    "    search_point = optimizer.suggest(utility)\n",
    "    \n",
    "    pprint.pprint(search_point)\n",
    "    target = black_box_function_sim(search_point)\n",
    "    optimizer.register(params=search_point, target=target)\n",
    "    print(f'Result: {target}')\n",
    "    \n",
    "print(optimizer.max)"
   ]
  },
  {
   "cell_type": "code",
   "execution_count": 20,
   "id": "474cf45c-4e71-4bec-9c92-1e59add38739",
   "metadata": {},
   "outputs": [
    {
     "ename": "FileNotFoundError",
     "evalue": "[Errno 2] No such file or directory: 'pitzDaily/InletVariation'",
     "output_type": "error",
     "traceback": [
      "\u001b[0;31m---------------------------------------------------------------------------\u001b[0m",
      "\u001b[0;31mFileNotFoundError\u001b[0m                         Traceback (most recent call last)",
      "Input \u001b[0;32mIn [20]\u001b[0m, in \u001b[0;36m<cell line: 11>\u001b[0;34m()\u001b[0m\n\u001b[1;32m      9\u001b[0m pCmd\u001b[38;5;241m=\u001b[39m\u001b[38;5;124m\"\u001b[39m\u001b[38;5;124mcalcPressureDifference\u001b[39m\u001b[38;5;124m\"\u001b[39m\n\u001b[1;32m     10\u001b[0m mCmd\u001b[38;5;241m=\u001b[39m\u001b[38;5;124m\"\u001b[39m\u001b[38;5;124mcalcMassFlow\u001b[39m\u001b[38;5;124m\"\u001b[39m\n\u001b[0;32m---> 11\u001b[0m dire\u001b[38;5;241m=\u001b[39m\u001b[43mSolutionDirectory\u001b[49m\u001b[43m(\u001b[49m\u001b[43mcase\u001b[49m\u001b[43m,\u001b[49m\u001b[43marchive\u001b[49m\u001b[38;5;241;43m=\u001b[39;49m\u001b[38;5;124;43m\"\u001b[39;49m\u001b[38;5;124;43mInletVariation\u001b[39;49m\u001b[38;5;124;43m\"\u001b[39;49m\u001b[43m)\u001b[49m\n\u001b[1;32m     12\u001b[0m dire\u001b[38;5;241m.\u001b[39mclearResults()\n\u001b[1;32m     13\u001b[0m dire\u001b[38;5;241m.\u001b[39maddBackup(\u001b[38;5;124m\"\u001b[39m\u001b[38;5;124mPyFoamSolve.logfile\u001b[39m\u001b[38;5;124m\"\u001b[39m)\n",
      "File \u001b[0;32m~/WDK/ML/rans_tuner/tuner/lib/python3.9/site-packages/PyFoam/RunDictionary/SolutionDirectory.py:60\u001b[0m, in \u001b[0;36mSolutionDirectory.__init__\u001b[0;34m(self, name, archive, paraviewLink, parallel, addLocalConfig, tolerant, region)\u001b[0m\n\u001b[1;32m     58\u001b[0m     \u001b[38;5;28mself\u001b[39m\u001b[38;5;241m.\u001b[39marchive\u001b[38;5;241m=\u001b[39mpath\u001b[38;5;241m.\u001b[39mjoin(name,archive)\n\u001b[1;32m     59\u001b[0m     \u001b[38;5;28;01mif\u001b[39;00m \u001b[38;5;129;01mnot\u001b[39;00m path\u001b[38;5;241m.\u001b[39mexists(\u001b[38;5;28mself\u001b[39m\u001b[38;5;241m.\u001b[39marchive):\n\u001b[0;32m---> 60\u001b[0m         \u001b[43mmkdir\u001b[49m\u001b[43m(\u001b[49m\u001b[38;5;28;43mself\u001b[39;49m\u001b[38;5;241;43m.\u001b[39;49m\u001b[43marchive\u001b[49m\u001b[43m)\u001b[49m\n\u001b[1;32m     62\u001b[0m \u001b[38;5;28mself\u001b[39m\u001b[38;5;241m.\u001b[39mregion\u001b[38;5;241m=\u001b[39mregion\n\u001b[1;32m     63\u001b[0m \u001b[38;5;28mself\u001b[39m\u001b[38;5;241m.\u001b[39mbackups\u001b[38;5;241m=\u001b[39m[]\n",
      "\u001b[0;31mFileNotFoundError\u001b[0m: [Errno 2] No such file or directory: 'pitzDaily/InletVariation'"
     ]
    }
   ],
   "source": [
    "from PyFoam.Execution.ConvergenceRunner import ConvergenceRunner\n",
    "from PyFoam.Execution.UtilityRunner import UtilityRunner\n",
    "from PyFoam.LogAnalysis.BoundingLogAnalyzer import BoundingLogAnalyzer\n",
    "from PyFoam.RunDictionary.SolutionFile import SolutionFile\n",
    "from PyFoam.RunDictionary.SolutionDirectory import SolutionDirectory\n",
    " \n",
    "solver=\"simpleFoam\"\n",
    "case=\"pitzDaily\"\n",
    "pCmd=\"calcPressureDifference\"\n",
    "mCmd=\"calcMassFlow\"\n",
    "dire=SolutionDirectory(case,archive=\"InletVariation\")\n",
    "dire.clearResults()\n",
    "dire.addBackup(\"PyFoamSolve.logfile\")\n",
    "dire.addBackup(\"PyFoamSolve.analyzed\")\n",
    "dire.addBackup(\"Pressure.analyzed\")\n",
    "dire.addBackup(\"MassFlow.analyzed\")\n",
    "sol=SolutionFile(dire.initialDir(),\"U\")\n",
    " \n",
    "maximum=1.\n",
    "nr=10\n",
    " \n",
    "f=dire.makeFile(\"InflowVariationResults\")\n",
    "for i in range(nr+1):\n",
    "    # Set the boundary condition at the inlet\n",
    "    val=(maximum*i)/nr\n",
    "    print(\"Inlet velocity:\",val)\n",
    "    sol.replaceBoundary(\"inlet\",\"(%f 0 0)\" %(val))\n",
    " \n",
    "    # Run the solver\n",
    "    run=ConvergenceRunner(BoundingLogAnalyzer(),argv=[solver,\".\",case],silent=True)\n",
    "    run.start()\n",
    "    \n",
    "    print(\"Last Time = \",dire.getLast())\n",
    " \n",
    "    # Get the pressure difference (Using an external utility)\n",
    "    pUtil=UtilityRunner(argv=[pCmd,\".\",case],silent=True,logname=\"Pressure\")\n",
    "    pUtil.add(\"deltaP\",\"Pressure at .* Difference .*\\] (.+)\")\n",
    "    pUtil.start()\n",
    " \n",
    "    #deltaP=pUtil.get(\"deltaP\")[0]\n",
    " \n",
    "    # Get the mass flow\n",
    "    mUtil=UtilityRunner(argv=[mCmd,\".\",case,\"-latestTime\"],silent=True,logname=\"MassFlow\")\n",
    "    mUtil.add(\"mass\",\"Flux at (.+?) .*\\] (.+)\",idNr=1)\n",
    "    mUtil.start()\n",
    " \n",
    "    massFlow=mUtil.get(\"mass\",ID=\"outlet\")[0]\n",
    " \n",
    "    # Archive the results\n",
    "    dire.lastToArchive(\"vel=%g\" % (val))\n",
    " \n",
    "    # Clear results\n",
    "    dire.clearResults()\n",
    " \n",
    "    # Output current stuff\n",
    "    print(\"Vel: \",val,\"DeltaP: \"\"Mass Flow:\",massFlow)\n",
    "    f.writeLine( (val,deltaP,massFlow) )\n",
    "    \n",
    "sol.purgeFile()"
   ]
  },
  {
   "cell_type": "code",
   "execution_count": 3,
   "id": "5c17f7c0-33ef-4402-8971-c94b7f0cf009",
   "metadata": {},
   "outputs": [
    {
     "name": "stdout",
     "output_type": "stream",
     "text": [
      "282\n"
     ]
    }
   ],
   "source": [
    "from utilities.foam_automation.caserunner import run_until_convergence\n",
    "from utilities.foam_automation.error import mseU_2Dxy\n",
    "\n",
    "last_time = run_until_convergence(case = 'pyfoamtesting/test_newdir/',\n",
    "                      n_proc = 16)\n",
    "                  \n",
    "directory = 'foam/case_1p0/tuner'\n",
    "initialize(directory = directory,\n",
    "           coeff_bounds = coef,\n",
    "           restart = False)\n",
    "for i in range(25):\n",
    "    suggest(directory = directory,\n",
    "                           random_state=7)\n",
    "    search_point = load_suggestion(directory = directory)\n",
    "    target = black_box_function_sim_dummy(search_point)\n",
    "    register_score(score=target, directory = directory)\n",
    "    "
   ]
  },
  {
   "cell_type": "code",
   "execution_count": 12,
   "id": "e541a63e-a76a-4900-a22c-ec8065e72184",
   "metadata": {
    "scrolled": true,
    "tags": []
   },
   "outputs": [
    {
     "ename": "RuntimeError",
     "evalue": "input() already active",
     "output_type": "error",
     "traceback": [
      "\u001b[0;31m---------------------------------------------------------------------------\u001b[0m",
      "\u001b[0;31mRuntimeError\u001b[0m                              Traceback (most recent call last)",
      "Input \u001b[0;32mIn [12]\u001b[0m, in \u001b[0;36m<cell line: 23>\u001b[0;34m()\u001b[0m\n\u001b[1;32m     26\u001b[0m search_point \u001b[38;5;241m=\u001b[39m {\u001b[38;5;124m'\u001b[39m\u001b[38;5;124ma1\u001b[39m\u001b[38;5;124m'\u001b[39m: a1}\n\u001b[1;32m     27\u001b[0m write_suggestion(directory \u001b[38;5;241m=\u001b[39m history_directory, suggestion \u001b[38;5;241m=\u001b[39m search_point)\n\u001b[0;32m---> 28\u001b[0m \u001b[43mset_foam_coef\u001b[49m\u001b[43m(\u001b[49m\u001b[43mcasedir\u001b[49m\u001b[43m,\u001b[49m\u001b[43msearch_point\u001b[49m\u001b[43m)\u001b[49m                                    \n\u001b[1;32m     29\u001b[0m last_time \u001b[38;5;241m=\u001b[39m run_until_convergence(case \u001b[38;5;241m=\u001b[39m casedir, n_proc \u001b[38;5;241m=\u001b[39m \u001b[38;5;241m16\u001b[39m)\n",
      "Input \u001b[0;32mIn [12]\u001b[0m, in \u001b[0;36mset_foam_coef\u001b[0;34m(foamdir, coeffs)\u001b[0m\n\u001b[1;32m     11\u001b[0m value \u001b[38;5;241m=\u001b[39m coeffs[coef]\n\u001b[1;32m     12\u001b[0m \u001b[38;5;66;03m# Changes an entry in the system/dict_name to be value\u001b[39;00m\n\u001b[1;32m     13\u001b[0m \u001b[38;5;66;03m#print('Setting new foam coef: ' + str(a1))\u001b[39;00m\n\u001b[0;32m---> 14\u001b[0m \u001b[38;5;28;01mfor\u001b[39;00m line \u001b[38;5;129;01min\u001b[39;00m \u001b[43mfileinput\u001b[49m\u001b[38;5;241;43m.\u001b[39;49m\u001b[43minput\u001b[49m\u001b[43m(\u001b[49m\u001b[43mos\u001b[49m\u001b[38;5;241;43m.\u001b[39;49m\u001b[43mpath\u001b[49m\u001b[38;5;241;43m.\u001b[39;49m\u001b[43mjoin\u001b[49m\u001b[43m(\u001b[49m\u001b[43mfoamdir\u001b[49m\u001b[43m,\u001b[49m\u001b[38;5;124;43m'\u001b[39;49m\u001b[38;5;124;43mconstant/turbulenceProperties\u001b[39;49m\u001b[38;5;124;43m'\u001b[39;49m\u001b[43m)\u001b[49m\u001b[43m,\u001b[49m\u001b[43m \u001b[49m\u001b[43minplace\u001b[49m\u001b[38;5;241;43m=\u001b[39;49m\u001b[38;5;28;43;01mTrue\u001b[39;49;00m\u001b[43m)\u001b[49m:\n\u001b[1;32m     15\u001b[0m     \u001b[38;5;28;01mif\u001b[39;00m line\u001b[38;5;241m.\u001b[39mstrip()\u001b[38;5;241m.\u001b[39mstartswith(entry):\n\u001b[1;32m     16\u001b[0m         line \u001b[38;5;241m=\u001b[39m \u001b[38;5;124m'\u001b[39m\u001b[38;5;130;01m\\t\u001b[39;00m\u001b[38;5;124m'\u001b[39m\u001b[38;5;241m+\u001b[39mentry\u001b[38;5;241m+\u001b[39m\u001b[38;5;124m'\u001b[39m\u001b[38;5;130;01m\\t\u001b[39;00m\u001b[38;5;124m'\u001b[39m\u001b[38;5;241m+\u001b[39m \u001b[38;5;28mstr\u001b[39m(value) \u001b[38;5;241m+\u001b[39m \u001b[38;5;124m'\u001b[39m\u001b[38;5;124m;\u001b[39m\u001b[38;5;130;01m\\n\u001b[39;00m\u001b[38;5;124m'\u001b[39m\n",
      "File \u001b[0;32m/usr/lib/python3.9/fileinput.py:93\u001b[0m, in \u001b[0;36minput\u001b[0;34m(files, inplace, backup, mode, openhook)\u001b[0m\n\u001b[1;32m     91\u001b[0m \u001b[38;5;28;01mglobal\u001b[39;00m _state\n\u001b[1;32m     92\u001b[0m \u001b[38;5;28;01mif\u001b[39;00m _state \u001b[38;5;129;01mand\u001b[39;00m _state\u001b[38;5;241m.\u001b[39m_file:\n\u001b[0;32m---> 93\u001b[0m     \u001b[38;5;28;01mraise\u001b[39;00m \u001b[38;5;167;01mRuntimeError\u001b[39;00m(\u001b[38;5;124m\"\u001b[39m\u001b[38;5;124minput() already active\u001b[39m\u001b[38;5;124m\"\u001b[39m)\n\u001b[1;32m     94\u001b[0m _state \u001b[38;5;241m=\u001b[39m FileInput(files, inplace, backup, mode\u001b[38;5;241m=\u001b[39mmode, openhook\u001b[38;5;241m=\u001b[39mopenhook)\n\u001b[1;32m     95\u001b[0m \u001b[38;5;28;01mreturn\u001b[39;00m _state\n",
      "\u001b[0;31mRuntimeError\u001b[0m: input() already active"
     ]
    }
   ],
   "source": [
    "from utilities.foam_automation.caserunner import run_until_convergence\n",
    "from utilities.foam_automation.error import mseU_2Dxy\n",
    "from utilities.json_io import write_suggestion\n",
    "import numpy as np\n",
    "import os\n",
    "import fileinput\n",
    "import sys\n",
    "def set_foam_coef(foamdir,coeffs):\n",
    "    for coef in coeffs:\n",
    "        entry = coef\n",
    "        value = coeffs[coef]\n",
    "        # Changes an entry in the system/dict_name to be value\n",
    "        #print('Setting new foam coef: ' + str(a1))\n",
    "        for line in fileinput.input(os.path.join(foamdir,'constant/turbulenceProperties'), inplace=True):\n",
    "            if line.strip().startswith(entry):\n",
    "                line = '\\t'+entry+'\\t'+ str(value) + ';\\n'\n",
    "            sys.stdout.write(line)\n",
    "    return\n",
    "\n",
    "a1_vec = np.around(np.linspace(0.15,0.8,300),4)\n",
    "history_directory = 'foam/gridsearch_a1_phll/tuner'\n",
    "\n",
    "for a1 in a1_vec:\n",
    "    casedir = f'foam/gridsearch_a1_phll/case_1p0_a1_{a1}'\n",
    "    os.system(f'cp -r foam/gridsearch_a1_phll/case_1p0_template {casedir}')\n",
    "    search_point = {'a1': a1}\n",
    "    write_suggestion(directory = history_directory, suggestion = search_point)\n",
    "    set_foam_coef(casedir,search_point)                                    \n",
    "    last_time = run_until_convergence(case = casedir, n_proc = 16)\n",
    "    \n",
    "#\n",
    "    #directory = 'foam/case_1p0/tuner'\n",
    "    #initialize(directory = directory,\n",
    "    #           coeff_bounds = coef,\n",
    "    #           restart = False)\n",
    "\n",
    "    #suggest(directory = directory,\n",
    "    #                       random_state=7)\n",
    "\n",
    "    #search_point = load_suggestion(directory = directory)\n",
    "    #target = black_box_function_sim_dummy(search_point)\n",
    "    #register_score(score=target, directory = directory)\n",
    "    "
   ]
  },
  {
   "cell_type": "code",
   "execution_count": null,
   "id": "0f0a8a8b-0399-49d5-bb15-685bfba9d46c",
   "metadata": {},
   "outputs": [],
   "source": [
    "for a1 in a1_vec:\n",
    "    casedir = f'foam/gridsearch_a1_phll/case_1p0_a1_{a1}'\n",
    "    os.system(f'cp -r foam/gridsearch_a1_phll/case_1p0_template {casedir}')\n",
    "    search_point = {'a1': a1}\n",
    "    write_suggestion(directory = history_directory, suggestion = search_point)"
   ]
  },
  {
   "cell_type": "code",
   "execution_count": 1,
   "id": "cb5d78cf-a595-4bb9-8868-e06a6b99b975",
   "metadata": {},
   "outputs": [
    {
     "name": "stdout",
     "output_type": "stream",
     "text": [
      "             Ux            Uy   Uz\n",
      "0      0.001578 -1.385990e-07  0.0\n",
      "1      0.001580 -8.801270e-08  0.0\n",
      "2      0.001580  1.193190e-07  0.0\n",
      "3      0.001577  8.784120e-08  0.0\n",
      "4      0.001571  3.031190e-07  0.0\n",
      "...         ...           ...  ...\n",
      "14746 -0.000105  7.451490e-05  0.0\n",
      "14747 -0.000097  4.489720e-05  0.0\n",
      "14748 -0.000038  9.989710e-07  0.0\n",
      "14749  0.000150 -2.555680e-06  0.0\n",
      "14750  0.000153  1.620930e-06  0.0\n",
      "\n",
      "[14751 rows x 3 columns]\n",
      "(14751, 2)\n",
      "[[8.95455   3.034    ]\n",
      " [8.86364   3.034    ]\n",
      " [8.77273   3.034    ]\n",
      " ...\n",
      " [0.227445  0.989246 ]\n",
      " [0.136411  0.999116 ]\n",
      " [0.0454619 1.001    ]]\n",
      "1.1712847622206638e-06\n"
     ]
    }
   ],
   "source": [
    "import pandas as pd\n",
    "ref_df = pd.read_csv('foam/case_1p0/ref/refdata.csv')\n",
    "print(ref_df[['Ux','Uy','Uz']])\n",
    "#foam_mse(ref_df)\n",
    "mse = mseU_2Dxy(foamdirectory='foam/case_1p0',foamtime='5000',ref_df=ref_df)\n",
    "print(mse)"
   ]
  },
  {
   "cell_type": "code",
   "execution_count": 9,
   "id": "29713675-c9b6-4abb-a0bc-3ef006cfcea9",
   "metadata": {},
   "outputs": [],
   "source": [
    "coef = {\n",
    "    'alphaK1': (0.75,0.95),\n",
    "    'alphaK2': (0.9,1.1),\n",
    "    'alphaOmega1': (0.4, 0.6),\n",
    "    'alphaOmega2': (0.75, 0.95),\n",
    "    'gamma1': (0.4, 0.6),\n",
    "    'gamma2': (0.35, 0.55),\n",
    "    'beta1': (0.065, 0.085),\n",
    "    'beta2': (0.075, 0.095),\n",
    "    'a1': (0.2,0.5),\n",
    "}\n",
    "with open(os.path.join(\"coeff_full.json\"), \"w\") as outfile:\n",
    "    json.dump(coef, outfile, indent = 4)"
   ]
  },
  {
   "cell_type": "code",
   "execution_count": 7,
   "id": "4eb6fc03-b820-4ae8-9e95-28d32577694c",
   "metadata": {},
   "outputs": [
    {
     "name": "stdout",
     "output_type": "stream",
     "text": [
      "{'a1': [0.2, 0.5]}\n"
     ]
    }
   ],
   "source": [
    "import json\n",
    "with open(\"coeff_a1.json\", \"r+\") as j:\n",
    "    coeff = json.load(j)\n",
    "pprint.pprint(coeff)\n",
    "\n"
   ]
  },
  {
   "cell_type": "code",
   "execution_count": 35,
   "id": "5ec58b0e-31cc-479b-b7d9-c00b43d2d6ca",
   "metadata": {},
   "outputs": [
    {
     "data": {
      "image/png": "[encoded data removed]",
      "text/plain": [
       "<Figure size 1152x648 with 1 Axes>"
      ]
     },
     "metadata": {
      "needs_background": "light"
     },
     "output_type": "display_data"
    }
   ],
   "source": [
    "bo = optimizer\n",
    "x = np.linspace(0.2, 0.5, 1000)\n",
    "mean, sigma = bo._gp.predict(x.reshape(-1, 1), return_std=True)\n",
    "\n",
    "plt.figure(figsize=(16, 9))\n",
    "plt.plot(x, mean)\n",
    "plt.fill_between(x, mean + sigma, mean - sigma, alpha=0.1)\n",
    "plt.scatter(bo.space.params.flatten(), bo.space.target, c=\"red\", s=50, zorder=10)\n",
    "plt.xlabel(r'$a_1$')\n",
    "plt.ylabel('MSE(U)')\n",
    "plt.show()"
   ]
  },
  {
   "cell_type": "code",
   "execution_count": 29,
   "id": "7e734788-fe9b-48ea-a0dc-987b9119404b",
   "metadata": {},
   "outputs": [
    {
     "ename": "NameError",
     "evalue": "name 'optimizer' is not defined",
     "output_type": "error",
     "traceback": [
      "\u001b[0;31m---------------------------------------------------------------------------\u001b[0m",
      "\u001b[0;31mNameError\u001b[0m                                 Traceback (most recent call last)",
      "Input \u001b[0;32mIn [29]\u001b[0m, in \u001b[0;36m<cell line: 1>\u001b[0;34m()\u001b[0m\n\u001b[0;32m----> 1\u001b[0m load_logs(\u001b[43moptimizer\u001b[49m, logs\u001b[38;5;241m=\u001b[39m[\u001b[38;5;124m\"\u001b[39m\u001b[38;5;124m./logs.json\u001b[39m\u001b[38;5;124m\"\u001b[39m])\n",
      "\u001b[0;31mNameError\u001b[0m: name 'optimizer' is not defined"
     ]
    }
   ],
   "source": [
    "load_logs(optimizer, logs=[\"./logs.json\"]);"
   ]
  },
  {
   "cell_type": "code",
   "execution_count": 28,
   "id": "f862b89b-63d9-4c0a-85de-e68616d1ac3c",
   "metadata": {},
   "outputs": [
    {
     "name": "stdout",
     "output_type": "stream",
     "text": [
      "Running foam sim....\n",
      "    Reading vector: foam/case_1p0/5000/U\n",
      "    Found a mesh with number of cells: 14751\n",
      "    Reading vector: foam/case_1p0/ref/U\n",
      "    Found a mesh with number of cells: 14751\n",
      "MSE: 6.790276934434617e-06\n",
      "-6.790276934434617e-06\n"
     ]
    }
   ],
   "source": [
    "target = black_box_function_sim(default_coef)\n",
    "print(target)"
   ]
  },
  {
   "cell_type": "code",
   "execution_count": 27,
   "id": "5d2d45df-8e99-4eca-9ee1-044e5ab87b90",
   "metadata": {},
   "outputs": [
    {
     "name": "stdout",
     "output_type": "stream",
     "text": [
      "-6.790276934434617e-06\n"
     ]
    }
   ],
   "source": [
    "print(target)"
   ]
  },
  {
   "cell_type": "code",
   "execution_count": 6,
   "id": "3f887b88-4257-460a-8aba-28f032b5213c",
   "metadata": {},
   "outputs": [
    {
     "name": "stdout",
     "output_type": "stream",
     "text": [
      "Running foam sim....\n"
     ]
    },
    {
     "name": "stderr",
     "output_type": "stream",
     "text": [
      "    This keyword is 66 months old.\n",
      "\n",
      "    This keyword is 66 months old.\n",
      "\n",
      "    This keyword is 66 months old.\n",
      "\n",
      "    This keyword is 66 months old.\n",
      "\n",
      "    This keyword is 66 months old.\n",
      "\n",
      "    This keyword is 66 months old.\n",
      "\n",
      "    This keyword is 66 months old.\n",
      "\n",
      "    This keyword is 66 months old.\n",
      "\n",
      "    This keyword is 66 months old.\n",
      "\n",
      "    This keyword is 66 months old.\n",
      "\n",
      "    This keyword is 66 months old.\n",
      "\n",
      "    This keyword is 66 months old.\n",
      "\n",
      "    This keyword is 66 months old.\n",
      "\n",
      "    This keyword is 66 months old.\n",
      "\n",
      "    This keyword is 66 months old.\n",
      "\n",
      "    This keyword is 66 months old.\n",
      "\n"
     ]
    },
    {
     "name": "stdout",
     "output_type": "stream",
     "text": [
      "    Reading vector: foam/case_1p0/5000/U\n",
      "    Found a mesh with number of cells: 14751\n",
      "    Reading vector: foam/case_1p0/ref/U\n",
      "    Found a mesh with number of cells: 14751\n",
      "MSE: 2.0355155438313916e-06\n"
     ]
    }
   ],
   "source": [
    "target = black_box_function_sim(optimizer.max)"
   ]
  },
  {
   "cell_type": "code",
   "execution_count": 9,
   "id": "7e564122-fdc2-4ac3-87e9-b222d359d36e",
   "metadata": {},
   "outputs": [
    {
     "name": "stdout",
     "output_type": "stream",
     "text": [
      "-2.0355155438313916e-06\n"
     ]
    }
   ],
   "source": [
    "print(target)"
   ]
  },
  {
   "cell_type": "code",
   "execution_count": 8,
   "id": "4ef63937-2f3b-4853-9d27-dfa2a5a88087",
   "metadata": {},
   "outputs": [
    {
     "name": "stdout",
     "output_type": "stream",
     "text": [
      "{'params': {'a1': 0.4135005163292025,\n",
      "            'alphaK1': 0.7758830053328635,\n",
      "            'alphaK2': 1.0693991650621675,\n",
      "            'alphaOmega1': 0.6,\n",
      "            'alphaOmega2': 0.75,\n",
      "            'beta1': 0.065,\n",
      "            'beta2': 0.08230703907754662,\n",
      "            'gamma1': 0.4,\n",
      "            'gamma2': 0.35},\n",
      " 'target': -1.2435873574593833e-06}\n"
     ]
    }
   ],
   "source": [
    "pprint.pprint(optimizer.max)"
   ]
  },
  {
   "cell_type": "code",
   "execution_count": 12,
   "id": "71127b0a-6457-45cc-bf12-3662d1efa4aa",
   "metadata": {},
   "outputs": [],
   "source": [
    "def black_box_function(x, y):\n",
    "    \"\"\"Function with unknown internals we wish to maximize.\n",
    "\n",
    "    This is just serving as an example, for all intents and\n",
    "    purposes think of the internals of this function, i.e.: the process\n",
    "    which generates its output values, as unknown.\n",
    "    \"\"\"\n",
    "    return -x ** 2 - (y - 1) ** 2 + 1"
   ]
  },
  {
   "cell_type": "code",
   "execution_count": 22,
   "id": "695113f3-42f9-46f2-8e2b-32eff83d5647",
   "metadata": {},
   "outputs": [
    {
     "name": "stdout",
     "output_type": "stream",
     "text": [
      "{'a1': 0.3251066014107722}\n",
      "{'a1': 0.3251066014107722}\n",
      "0.3251066014107722 {'a1': 0.3251066014107722}\n",
      "{'a1': 0.5}\n",
      "{'a1': 0.5}\n",
      "0.5 {'a1': 0.5}\n",
      "{'a1': 0.499970028843865}\n",
      "{'a1': 0.499970028843865}\n",
      "0.499970028843865 {'a1': 0.499970028843865}\n",
      "{'a1': 0.2}\n",
      "{'a1': 0.2}\n",
      "0.2 {'a1': 0.2}\n",
      "{'a1': 0.4474211656238344}\n",
      "{'a1': 0.4474211656238344}\n",
      "0.4474211656238344 {'a1': 0.4474211656238344}\n",
      "{'a1': 0.5}\n",
      "{'a1': 0.5}\n"
     ]
    },
    {
     "ename": "KeyError",
     "evalue": "'Data point [0.5] is not unique'",
     "output_type": "error",
     "traceback": [
      "\u001b[0;31m---------------------------------------------------------------------------\u001b[0m",
      "\u001b[0;31mKeyError\u001b[0m                                  Traceback (most recent call last)",
      "Input \u001b[0;32mIn [22]\u001b[0m, in \u001b[0;36m<cell line: 23>\u001b[0;34m()\u001b[0m\n\u001b[1;32m     25\u001b[0m     \u001b[38;5;28mprint\u001b[39m(next_point)\n\u001b[1;32m     26\u001b[0m     target \u001b[38;5;241m=\u001b[39m black_box_function_sim_dummy(next_point)\n\u001b[0;32m---> 27\u001b[0m     \u001b[43moptimizer\u001b[49m\u001b[38;5;241;43m.\u001b[39;49m\u001b[43mregister\u001b[49m\u001b[43m(\u001b[49m\u001b[43mparams\u001b[49m\u001b[38;5;241;43m=\u001b[39;49m\u001b[43mnext_point\u001b[49m\u001b[43m,\u001b[49m\u001b[43m \u001b[49m\u001b[43mtarget\u001b[49m\u001b[38;5;241;43m=\u001b[39;49m\u001b[43mtarget\u001b[49m\u001b[43m)\u001b[49m\n\u001b[1;32m     29\u001b[0m     \u001b[38;5;28mprint\u001b[39m(target, next_point)\n\u001b[1;32m     31\u001b[0m \u001b[38;5;28mprint\u001b[39m(optimizer\u001b[38;5;241m.\u001b[39mmax)\n",
      "File \u001b[0;32m~/WDK/ML/rans_tuner/tuner/lib/python3.9/site-packages/bayes_opt/bayesian_optimization.py:108\u001b[0m, in \u001b[0;36mBayesianOptimization.register\u001b[0;34m(self, params, target)\u001b[0m\n\u001b[1;32m    106\u001b[0m \u001b[38;5;28;01mdef\u001b[39;00m \u001b[38;5;21mregister\u001b[39m(\u001b[38;5;28mself\u001b[39m, params, target):\n\u001b[1;32m    107\u001b[0m     \u001b[38;5;124;03m\"\"\"Expect observation with known target\"\"\"\u001b[39;00m\n\u001b[0;32m--> 108\u001b[0m     \u001b[38;5;28;43mself\u001b[39;49m\u001b[38;5;241;43m.\u001b[39;49m\u001b[43m_space\u001b[49m\u001b[38;5;241;43m.\u001b[39;49m\u001b[43mregister\u001b[49m\u001b[43m(\u001b[49m\u001b[43mparams\u001b[49m\u001b[43m,\u001b[49m\u001b[43m \u001b[49m\u001b[43mtarget\u001b[49m\u001b[43m)\u001b[49m\n\u001b[1;32m    109\u001b[0m     \u001b[38;5;28mself\u001b[39m\u001b[38;5;241m.\u001b[39mdispatch(Events\u001b[38;5;241m.\u001b[39mOPTIMIZATION_STEP)\n",
      "File \u001b[0;32m~/WDK/ML/rans_tuner/tuner/lib/python3.9/site-packages/bayes_opt/target_space.py:161\u001b[0m, in \u001b[0;36mTargetSpace.register\u001b[0;34m(self, params, target)\u001b[0m\n\u001b[1;32m    159\u001b[0m x \u001b[38;5;241m=\u001b[39m \u001b[38;5;28mself\u001b[39m\u001b[38;5;241m.\u001b[39m_as_array(params)\n\u001b[1;32m    160\u001b[0m \u001b[38;5;28;01mif\u001b[39;00m x \u001b[38;5;129;01min\u001b[39;00m \u001b[38;5;28mself\u001b[39m:\n\u001b[0;32m--> 161\u001b[0m     \u001b[38;5;28;01mraise\u001b[39;00m \u001b[38;5;167;01mKeyError\u001b[39;00m(\u001b[38;5;124m'\u001b[39m\u001b[38;5;124mData point \u001b[39m\u001b[38;5;132;01m{}\u001b[39;00m\u001b[38;5;124m is not unique\u001b[39m\u001b[38;5;124m'\u001b[39m\u001b[38;5;241m.\u001b[39mformat(x))\n\u001b[1;32m    163\u001b[0m \u001b[38;5;66;03m# Insert data into unique dictionary\u001b[39;00m\n\u001b[1;32m    164\u001b[0m \u001b[38;5;28mself\u001b[39m\u001b[38;5;241m.\u001b[39m_cache[_hashable(x\u001b[38;5;241m.\u001b[39mravel())] \u001b[38;5;241m=\u001b[39m target\n",
      "\u001b[0;31mKeyError\u001b[0m: 'Data point [0.5] is not unique'"
     ]
    }
   ],
   "source": [
    "from bayes_opt import BayesianOptimization\n",
    "from bayes_opt import UtilityFunction\n",
    "import numpy as np\n",
    "\n",
    "def black_box_function_sim_dummy(coef):\n",
    "    print(coef)\n",
    "    result = sum(coef.values())\n",
    "    return result #+np.random.uniform(0.01,0.1)\n",
    "\n",
    "coef = {\n",
    "    'alphaK1': (0.75,0.95),\n",
    "    'alphaK2': (0.9,1.1),\n",
    "    'alphaOmega1': (0.4, 0.6),\n",
    "    'alphaOmega2': (0.75, 0.95),\n",
    "    'gamma1': (0.4, 0.6),\n",
    "    'gamma2': (0.35, 0.55),\n",
    "    'beta1': (0.065, 0.085),\n",
    "    'beta2': (0.075, 0.095),\n",
    "    'a1': (0.2,0.5),\n",
    "}\n",
    "\n",
    "optimizer = BayesianOptimization(\n",
    "    f=None,\n",
    "    pbounds=coef,\n",
    "    verbose=2,\n",
    "    random_state=1,\n",
    ")\n",
    "\n",
    "utility = UtilityFunction(kind=\"ucb\", kappa=2.5, xi=0.0)\n",
    "ref_df = pd.read_csv('foam/case_1p0/ref/refdata.csv')\n",
    "\n",
    "for i in range(10):\n",
    "    coef_probe = optimizer.suggest(utility)\n",
    "    print(next_point)\n",
    "    target = black_box_function_sim_dummy(coef_probe,refdf)\n",
    "    \n",
    "    \n",
    "    \n",
    "    optimizer.register(params=coef_probe, target=target)\n",
    "    print(target, coef_probe)\n",
    "    \n",
    "print(optimizer.max)"
   ]
  },
  {
   "cell_type": "code",
   "execution_count": null,
   "id": "7fd8e40e-8d0e-483a-93d7-4ff28111e83d",
   "metadata": {
    "scrolled": true,
    "tags": []
   },
   "outputs": [],
   "source": [
    "set_foam_coef(0.31)\n",
    "run_foam_sim()"
   ]
  },
  {
   "cell_type": "code",
   "execution_count": 19,
   "id": "8290125f-4e3f-46e2-84fc-66944d80669d",
   "metadata": {},
   "outputs": [
    {
     "name": "stdout",
     "output_type": "stream",
     "text": [
      "    Reading vector: foam/case_1p0/10000/U\n",
      "    Found a mesh with number of cells: 14751\n",
      "    Reading vector: foam/case_1p0/ref/U\n",
      "    Found a mesh with number of cells: 14751\n",
      "MSE: 6.7902769276451256e-06\n",
      "-6.7902769276451256e-06\n"
     ]
    }
   ],
   "source": [
    "mse = -foam_mse()\n",
    "print(mse)"
   ]
  },
  {
   "cell_type": "code",
   "execution_count": 50,
   "id": "97507908-f203-40dc-b1ca-e317ec02a81a",
   "metadata": {},
   "outputs": [],
   "source": [
    "coef = {\n",
    "    'alphaK1': (0.75,0.95),\n",
    "    'alphaK2': (0.9,1.1),\n",
    "    'alphaOmega1': (0.4, 0.6),\n",
    "    'alphaOmega2': (0.75, 0.95),\n",
    "    'gamma1': (0.4, 0.6),\n",
    "    'gamma2': (0.35, 0.55),\n",
    "    'beta1': (0.065, 0.085),\n",
    "    'beta2': (0.075, 0.095),\n",
    "    'a1': (0.2,0.5),\n",
    "}"
   ]
  },
  {
   "cell_type": "code",
   "execution_count": 25,
   "id": "0b56e4a6-5ca7-405e-bcf6-a38277ca1535",
   "metadata": {
    "scrolled": true,
    "tags": []
   },
   "outputs": [
    {
     "name": "stdout",
     "output_type": "stream",
     "text": [
      "|   iter    |  target   |    a1     |\n",
      "-------------------------------------\n"
     ]
    },
    {
     "ename": "TypeError",
     "evalue": "black_box_function_sim_dummy() got an unexpected keyword argument 'a1'",
     "output_type": "error",
     "traceback": [
      "\u001b[0;31m---------------------------------------------------------------------------\u001b[0m",
      "\u001b[0;31mKeyError\u001b[0m                                  Traceback (most recent call last)",
      "File \u001b[0;32m~/WDK/ML/rans_tuner/tuner/lib/python3.9/site-packages/bayes_opt/target_space.py:191\u001b[0m, in \u001b[0;36mTargetSpace.probe\u001b[0;34m(self, params)\u001b[0m\n\u001b[1;32m    190\u001b[0m \u001b[38;5;28;01mtry\u001b[39;00m:\n\u001b[0;32m--> 191\u001b[0m     target \u001b[38;5;241m=\u001b[39m \u001b[38;5;28;43mself\u001b[39;49m\u001b[38;5;241;43m.\u001b[39;49m\u001b[43m_cache\u001b[49m\u001b[43m[\u001b[49m\u001b[43m_hashable\u001b[49m\u001b[43m(\u001b[49m\u001b[43mx\u001b[49m\u001b[43m)\u001b[49m\u001b[43m]\u001b[49m\n\u001b[1;32m    192\u001b[0m \u001b[38;5;28;01mexcept\u001b[39;00m \u001b[38;5;167;01mKeyError\u001b[39;00m:\n",
      "\u001b[0;31mKeyError\u001b[0m: (0.28340440094051483,)",
      "\nDuring handling of the above exception, another exception occurred:\n",
      "\u001b[0;31mTypeError\u001b[0m                                 Traceback (most recent call last)",
      "Input \u001b[0;32mIn [25]\u001b[0m, in \u001b[0;36m<cell line: 11>\u001b[0;34m()\u001b[0m\n\u001b[1;32m      2\u001b[0m pbounds \u001b[38;5;241m=\u001b[39m {\u001b[38;5;124m'\u001b[39m\u001b[38;5;124ma1\u001b[39m\u001b[38;5;124m'\u001b[39m: (\u001b[38;5;241m0.2\u001b[39m,\u001b[38;5;241m0.4\u001b[39m)}\n\u001b[1;32m      3\u001b[0m optimizer \u001b[38;5;241m=\u001b[39m BayesianOptimization(\n\u001b[1;32m      4\u001b[0m     f\u001b[38;5;241m=\u001b[39mblack_box_function_sim_dummy,\n\u001b[1;32m      5\u001b[0m     pbounds\u001b[38;5;241m=\u001b[39mpbounds,\n\u001b[1;32m      6\u001b[0m     verbose\u001b[38;5;241m=\u001b[39m\u001b[38;5;241m2\u001b[39m, \u001b[38;5;66;03m# verbose = 1 prints only when a maximum is observed, verbose = 0 is silent\u001b[39;00m\n\u001b[1;32m      7\u001b[0m     random_state\u001b[38;5;241m=\u001b[39m\u001b[38;5;241m1\u001b[39m,\n\u001b[1;32m      8\u001b[0m )\n\u001b[0;32m---> 11\u001b[0m \u001b[43moptimizer\u001b[49m\u001b[38;5;241;43m.\u001b[39;49m\u001b[43mmaximize\u001b[49m\u001b[43m(\u001b[49m\n\u001b[1;32m     12\u001b[0m \u001b[43m    \u001b[49m\u001b[43minit_points\u001b[49m\u001b[38;5;241;43m=\u001b[39;49m\u001b[38;5;241;43m3\u001b[39;49m\u001b[43m,\u001b[49m\n\u001b[1;32m     13\u001b[0m \u001b[43m    \u001b[49m\u001b[43mn_iter\u001b[49m\u001b[38;5;241;43m=\u001b[39;49m\u001b[38;5;241;43m10\u001b[39;49m\u001b[43m,\u001b[49m\n\u001b[1;32m     14\u001b[0m \u001b[43m)\u001b[49m\n\u001b[1;32m     15\u001b[0m \u001b[38;5;28mprint\u001b[39m(optimizer\u001b[38;5;241m.\u001b[39mmax)\n",
      "File \u001b[0;32m~/WDK/ML/rans_tuner/tuner/lib/python3.9/site-packages/bayes_opt/bayesian_optimization.py:185\u001b[0m, in \u001b[0;36mBayesianOptimization.maximize\u001b[0;34m(self, init_points, n_iter, acq, kappa, kappa_decay, kappa_decay_delay, xi, **gp_params)\u001b[0m\n\u001b[1;32m    182\u001b[0m     x_probe \u001b[38;5;241m=\u001b[39m \u001b[38;5;28mself\u001b[39m\u001b[38;5;241m.\u001b[39msuggest(util)\n\u001b[1;32m    183\u001b[0m     iteration \u001b[38;5;241m+\u001b[39m\u001b[38;5;241m=\u001b[39m \u001b[38;5;241m1\u001b[39m\n\u001b[0;32m--> 185\u001b[0m \u001b[38;5;28;43mself\u001b[39;49m\u001b[38;5;241;43m.\u001b[39;49m\u001b[43mprobe\u001b[49m\u001b[43m(\u001b[49m\u001b[43mx_probe\u001b[49m\u001b[43m,\u001b[49m\u001b[43m \u001b[49m\u001b[43mlazy\u001b[49m\u001b[38;5;241;43m=\u001b[39;49m\u001b[38;5;28;43;01mFalse\u001b[39;49;00m\u001b[43m)\u001b[49m\n\u001b[1;32m    187\u001b[0m \u001b[38;5;28;01mif\u001b[39;00m \u001b[38;5;28mself\u001b[39m\u001b[38;5;241m.\u001b[39m_bounds_transformer:\n\u001b[1;32m    188\u001b[0m     \u001b[38;5;28mself\u001b[39m\u001b[38;5;241m.\u001b[39mset_bounds(\n\u001b[1;32m    189\u001b[0m         \u001b[38;5;28mself\u001b[39m\u001b[38;5;241m.\u001b[39m_bounds_transformer\u001b[38;5;241m.\u001b[39mtransform(\u001b[38;5;28mself\u001b[39m\u001b[38;5;241m.\u001b[39m_space))\n",
      "File \u001b[0;32m~/WDK/ML/rans_tuner/tuner/lib/python3.9/site-packages/bayes_opt/bayesian_optimization.py:116\u001b[0m, in \u001b[0;36mBayesianOptimization.probe\u001b[0;34m(self, params, lazy)\u001b[0m\n\u001b[1;32m    114\u001b[0m     \u001b[38;5;28mself\u001b[39m\u001b[38;5;241m.\u001b[39m_queue\u001b[38;5;241m.\u001b[39madd(params)\n\u001b[1;32m    115\u001b[0m \u001b[38;5;28;01melse\u001b[39;00m:\n\u001b[0;32m--> 116\u001b[0m     \u001b[38;5;28;43mself\u001b[39;49m\u001b[38;5;241;43m.\u001b[39;49m\u001b[43m_space\u001b[49m\u001b[38;5;241;43m.\u001b[39;49m\u001b[43mprobe\u001b[49m\u001b[43m(\u001b[49m\u001b[43mparams\u001b[49m\u001b[43m)\u001b[49m\n\u001b[1;32m    117\u001b[0m     \u001b[38;5;28mself\u001b[39m\u001b[38;5;241m.\u001b[39mdispatch(Events\u001b[38;5;241m.\u001b[39mOPTIMIZATION_STEP)\n",
      "File \u001b[0;32m~/WDK/ML/rans_tuner/tuner/lib/python3.9/site-packages/bayes_opt/target_space.py:194\u001b[0m, in \u001b[0;36mTargetSpace.probe\u001b[0;34m(self, params)\u001b[0m\n\u001b[1;32m    192\u001b[0m \u001b[38;5;28;01mexcept\u001b[39;00m \u001b[38;5;167;01mKeyError\u001b[39;00m:\n\u001b[1;32m    193\u001b[0m     params \u001b[38;5;241m=\u001b[39m \u001b[38;5;28mdict\u001b[39m(\u001b[38;5;28mzip\u001b[39m(\u001b[38;5;28mself\u001b[39m\u001b[38;5;241m.\u001b[39m_keys, x))\n\u001b[0;32m--> 194\u001b[0m     target \u001b[38;5;241m=\u001b[39m \u001b[38;5;28;43mself\u001b[39;49m\u001b[38;5;241;43m.\u001b[39;49m\u001b[43mtarget_func\u001b[49m\u001b[43m(\u001b[49m\u001b[38;5;241;43m*\u001b[39;49m\u001b[38;5;241;43m*\u001b[39;49m\u001b[43mparams\u001b[49m\u001b[43m)\u001b[49m\n\u001b[1;32m    195\u001b[0m     \u001b[38;5;28mself\u001b[39m\u001b[38;5;241m.\u001b[39mregister(x, target)\n\u001b[1;32m    196\u001b[0m \u001b[38;5;28;01mreturn\u001b[39;00m target\n",
      "\u001b[0;31mTypeError\u001b[0m: black_box_function_sim_dummy() got an unexpected keyword argument 'a1'"
     ]
    }
   ],
   "source": [
    "\n",
    "# Bounded region of parameter space\n",
    "pbounds = {'a1': (0.2,0.4)}\n",
    "optimizer = BayesianOptimization(\n",
    "    f=black_box_function_sim_dummy,\n",
    "    pbounds=pbounds,\n",
    "    verbose=2, # verbose = 1 prints only when a maximum is observed, verbose = 0 is silent\n",
    "    random_state=1,\n",
    ")\n",
    "\n",
    "    \n",
    "optimizer.maximize(\n",
    "    init_points=3,\n",
    "    n_iter=10,\n",
    ")\n",
    "print(optimizer.max)\n",
    "\n"
   ]
  },
  {
   "cell_type": "code",
   "execution_count": 51,
   "id": "20b3f03d-fce9-47db-b68f-f7b0ca3f7a7a",
   "metadata": {},
   "outputs": [],
   "source": [
    "coef = {\n",
    "    'alphaK1': (0.75,0.95),\n",
    "    'alphaK2': (0.9,1.1),\n",
    "    'alphaOmega1': (0.4, 0.6),\n",
    "    'alphaOmega2': (0.75, 0.95),\n",
    "    'gamma1': (0.4, 0.6),\n",
    "    'gamma2': (0.35, 0.55),\n",
    "    'beta1': (0.065, 0.085),\n",
    "    'beta2': (0.075, 0.095),\n",
    "    'a1': (0.2,0.5),\n",
    "}"
   ]
  },
  {
   "cell_type": "code",
   "execution_count": 22,
   "id": "2667aab8-3311-4015-85ed-88f1073e42df",
   "metadata": {},
   "outputs": [
    {
     "name": "stdout",
     "output_type": "stream",
     "text": [
      "{'target': -1.9903240460168915e-06, 'params': {'a1': 0.4}}\n"
     ]
    }
   ],
   "source": [
    "print(optimizer.max)\n"
   ]
  },
  {
   "cell_type": "code",
   "execution_count": 14,
   "id": "a19437b7-22ee-4b9d-b868-11ecbcc9b27f",
   "metadata": {},
   "outputs": [
    {
     "name": "stdout",
     "output_type": "stream",
     "text": [
      "    Reading vector: foam/case_1p0/10000/U\n",
      "    Found a mesh with number of cells: 14751\n",
      "    Reading vector: foam/case_1p0/ref/U\n",
      "    Found a mesh with number of cells: 14751\n"
     ]
    }
   ],
   "source": [
    "U_sim = readFoam.readFoamVector('foam/case_1p0/10000/U')\n",
    "U_ref = readFoam.readFoamVector('foam/case_1p0/ref/U')"
   ]
  },
  {
   "cell_type": "code",
   "execution_count": 16,
   "id": "9e6000ac-2abc-4bdb-8aa5-9756e1364615",
   "metadata": {},
   "outputs": [
    {
     "name": "stdout",
     "output_type": "stream",
     "text": [
      "[[ 1.58869e-03  1.06907e-07  0.00000e+00]\n",
      " [ 1.58241e-03 -5.93469e-08  0.00000e+00]\n",
      " [ 1.58323e-03  1.08455e-07 -1.91588e-26]\n",
      " ...\n",
      " [ 2.22443e-04 -3.63854e-05  1.85543e-19]\n",
      " [ 5.64028e-04 -2.13818e-05 -2.51572e-20]\n",
      " [ 4.95152e-04 -1.03916e-06  0.00000e+00]]\n"
     ]
    }
   ],
   "source": [
    "print(U_sim)"
   ]
  },
  {
   "cell_type": "code",
   "execution_count": null,
   "id": "f572d18f-7612-47a8-b4ad-0d79ec5cdce7",
   "metadata": {},
   "outputs": [],
   "source": []
  }
 ],
 "metadata": {
  "kernelspec": {
   "display_name": "Python 3 (ipykernel)",
   "language": "python",
   "name": "python3"
  },
  "language_info": {
   "codemirror_mode": {
    "name": "ipython",
    "version": 3
   },
   "file_extension": ".py",
   "mimetype": "text/x-python",
   "name": "python",
   "nbconvert_exporter": "python",
   "pygments_lexer": "ipython3",
   "version": "3.10.4"
  }
 },
 "nbformat": 4,
 "nbformat_minor": 5
}
