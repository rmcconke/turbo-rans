{
 "cells": [
  {
   "cell_type": "code",
   "execution_count": 1,
   "id": "71127b0a-6457-45cc-bf12-3662d1efa4aa",
   "metadata": {},
   "outputs": [],
   "source": [
    "def black_box_function(x, y):\n",
    "    \"\"\"Function with unknown internals we wish to maximize.\n",
    "\n",
    "    This is just serving as an example, for all intents and\n",
    "    purposes think of the internals of this function, i.e.: the process\n",
    "    which generates its output values, as unknown.\n",
    "    \"\"\"\n",
    "    return -x ** 2 - (y - 1) ** 2 + 1"
   ]
  },
  {
   "cell_type": "code",
   "execution_count": 13,
   "id": "a6119c18-93b0-47c7-a8e4-1228bd90b5d0",
   "metadata": {},
   "outputs": [],
   "source": [
    "from bayes_opt import BayesianOptimization\n",
    "from dataFoam.utilities.foamIO import readFoam\n",
    "import fileinput\n",
    "import sys\n",
    "import os\n",
    "import subprocess"
   ]
  },
  {
   "cell_type": "code",
   "execution_count": 17,
   "id": "c9ac15a7-6208-4323-9ddc-82141c828671",
   "metadata": {},
   "outputs": [
    {
     "name": "stdout",
     "output_type": "stream",
     "text": [
      "    Reading vector: foam/case_1p0/10000/U\n",
      "    Found a mesh with number of cells: 14751\n",
      "    Reading vector: foam/case_1p0/ref/U\n",
      "    Found a mesh with number of cells: 14751\n",
      "MSE: 6.7902769276451256e-06\n"
     ]
    },
    {
     "data": {
      "text/plain": [
       "6.7902769276451256e-06"
      ]
     },
     "execution_count": 17,
     "metadata": {},
     "output_type": "execute_result"
    }
   ],
   "source": [
    "def black_box_function_sim_dummy(a1):\n",
    "    return a1\n",
    "def black_box_function_sim(a1):\n",
    "    \"\"\"Function with unknown internals we wish to maximize.\n",
    "\n",
    "    This is just serving as an example, for all intents and\n",
    "    purposes think of the internals of this function, i.e.: the process\n",
    "    which generates its output values, as unknown.\n",
    "    \"\"\"\n",
    "    set_foam_coef(a1)\n",
    "    run_foam_sim()\n",
    "    mse = -foam_mse()\n",
    "    return mse\n",
    "\n",
    "def set_foam_coef(a1):\n",
    "    entry = 'a1'\n",
    "    value = a1\n",
    "    # Changes an entry in the system/dict_name to be value\n",
    "    print('Setting new foam a1: ' + str(a1))\n",
    "    for line in fileinput.input('foam/case_1p0/constant/turbulenceProperties', inplace=True):\n",
    "        if line.strip().startswith(entry):\n",
    "            line = entry+'         '+ str(value) + ';\\n'\n",
    "        sys.stdout.write(line)\n",
    "    return\n",
    "\n",
    "def run_foam_sim():\n",
    "    print('Running foam sim....')\n",
    "    subprocess.check_call('sh '+' foam/case_1p0/Runsim', shell=True)\n",
    "    return\n",
    "\n",
    "from sklearn.metrics import mean_squared_error\n",
    "def foam_mse():\n",
    "    U_sim = readFoam.readFoamVector('foam/case_1p0/10000/U')[:,0:1]\n",
    "    U_ref = readFoam.readFoamVector('foam/case_1p0/ref/U')[:,0:1]\n",
    "    mse = mean_squared_error(U_ref,U_sim)\n",
    "    print('MSE: '+ str(mse))\n",
    "    return mse\n",
    "\n",
    "foam_mse()"
   ]
  },
  {
   "cell_type": "code",
   "execution_count": null,
   "id": "7fd8e40e-8d0e-483a-93d7-4ff28111e83d",
   "metadata": {
    "scrolled": true,
    "tags": []
   },
   "outputs": [],
   "source": [
    "set_foam_coef(0.31)\n",
    "run_foam_sim()"
   ]
  },
  {
   "cell_type": "code",
   "execution_count": 19,
   "id": "8290125f-4e3f-46e2-84fc-66944d80669d",
   "metadata": {},
   "outputs": [
    {
     "name": "stdout",
     "output_type": "stream",
     "text": [
      "    Reading vector: foam/case_1p0/10000/U\n",
      "    Found a mesh with number of cells: 14751\n",
      "    Reading vector: foam/case_1p0/ref/U\n",
      "    Found a mesh with number of cells: 14751\n",
      "MSE: 6.7902769276451256e-06\n",
      "-6.7902769276451256e-06\n"
     ]
    }
   ],
   "source": [
    "mse = -foam_mse()\n",
    "print(mse)"
   ]
  },
  {
   "cell_type": "code",
   "execution_count": null,
   "id": "0b56e4a6-5ca7-405e-bcf6-a38277ca1535",
   "metadata": {
    "scrolled": true,
    "tags": []
   },
   "outputs": [],
   "source": [
    "\n",
    "# Bounded region of parameter space\n",
    "pbounds = {'a1': (0.2,0.4)}\n",
    "optimizer = BayesianOptimization(\n",
    "    f=black_box_function_sim,\n",
    "    pbounds=pbounds,\n",
    "    verbose=2, # verbose = 1 prints only when a maximum is observed, verbose = 0 is silent\n",
    "    random_state=1,\n",
    ")\n",
    "\n",
    "\n",
    "optimizer.maximize(\n",
    "    init_points=3,\n",
    "    n_iter=10,\n",
    ")\n",
    "print(optimizer.max)\n",
    "\n"
   ]
  },
  {
   "cell_type": "code",
   "execution_count": 22,
   "id": "2667aab8-3311-4015-85ed-88f1073e42df",
   "metadata": {},
   "outputs": [
    {
     "name": "stdout",
     "output_type": "stream",
     "text": [
      "{'target': -1.9903240460168915e-06, 'params': {'a1': 0.4}}\n"
     ]
    }
   ],
   "source": [
    "print(optimizer.max)\n"
   ]
  },
  {
   "cell_type": "code",
   "execution_count": 14,
   "id": "a19437b7-22ee-4b9d-b868-11ecbcc9b27f",
   "metadata": {},
   "outputs": [
    {
     "name": "stdout",
     "output_type": "stream",
     "text": [
      "    Reading vector: foam/case_1p0/10000/U\n",
      "    Found a mesh with number of cells: 14751\n",
      "    Reading vector: foam/case_1p0/ref/U\n",
      "    Found a mesh with number of cells: 14751\n"
     ]
    }
   ],
   "source": [
    "U_sim = readFoam.readFoamVector('foam/case_1p0/10000/U')\n",
    "U_ref = readFoam.readFoamVector('foam/case_1p0/ref/U')"
   ]
  },
  {
   "cell_type": "code",
   "execution_count": 16,
   "id": "9e6000ac-2abc-4bdb-8aa5-9756e1364615",
   "metadata": {},
   "outputs": [
    {
     "name": "stdout",
     "output_type": "stream",
     "text": [
      "[[ 1.58869e-03  1.06907e-07  0.00000e+00]\n",
      " [ 1.58241e-03 -5.93469e-08  0.00000e+00]\n",
      " [ 1.58323e-03  1.08455e-07 -1.91588e-26]\n",
      " ...\n",
      " [ 2.22443e-04 -3.63854e-05  1.85543e-19]\n",
      " [ 5.64028e-04 -2.13818e-05 -2.51572e-20]\n",
      " [ 4.95152e-04 -1.03916e-06  0.00000e+00]]\n"
     ]
    }
   ],
   "source": [
    "print(U_sim)"
   ]
  },
  {
   "cell_type": "code",
   "execution_count": null,
   "id": "f572d18f-7612-47a8-b4ad-0d79ec5cdce7",
   "metadata": {},
   "outputs": [],
   "source": []
  }
 ],
 "metadata": {
  "kernelspec": {
   "display_name": "Python 3 (ipykernel)",
   "language": "python",
   "name": "python3"
  },
  "language_info": {
   "codemirror_mode": {
    "name": "ipython",
    "version": 3
   },
   "file_extension": ".py",
   "mimetype": "text/x-python",
   "name": "python",
   "nbconvert_exporter": "python",
   "pygments_lexer": "ipython3",
   "version": "3.9.7"
  }
 },
 "nbformat": 4,
 "nbformat_minor": 5
}
