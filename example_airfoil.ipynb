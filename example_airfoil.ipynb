{
 "cells": [
  {
   "cell_type": "code",
   "execution_count": 3,
   "id": "457f23fb-9812-4962-a2ae-7506e372bcc1",
   "metadata": {},
   "outputs": [],
   "source": [
    "import numpy as np\n",
    "import os\n",
    "import fileinput\n",
    "import sys\n",
    "import pandas as pd\n",
    "import matplotlib.pyplot as plt\n",
    "\n",
    "from utilities.foam_automation.caserunner import run_until_convergence, get_endtime\n",
    "from utilities.foam_automation.computeFoamLossFunc import computeFoamFieldLossFunc\n",
    "from utilities.foam_automation.set_foam_coeff import set_foam_coef\n",
    "\n",
    "from utilities.json_io import write_suggestion, write_json, load_coeff_default, load_coeff_bounds, load_history_loss_log, load_suggestion\n",
    "\n",
    "from utilities.control import initialize\n",
    "from update_history import register_score\n",
    "from suggest_coeffs import suggest\n",
    "import random"
   ]
  },
  {
   "cell_type": "markdown",
   "id": "28e03731-b446-4722-9da8-467dde7d6c33",
   "metadata": {
    "tags": []
   },
   "source": [
    "# Bayesian optimization"
   ]
  },
  {
   "cell_type": "code",
   "execution_count": 3,
   "id": "01fbf373-af90-4019-90af-0bdf0b9c813e",
   "metadata": {},
   "outputs": [
    {
     "name": "stdout",
     "output_type": "stream",
     "text": [
      "1.0209\n",
      "1.103368\n",
      "0.01928\n",
      "0.009221445\n",
      "error_term 0.602488988414949\n",
      "coef_term 0.34946236559139787\n",
      "score 0.7077626019820773\n"
     ]
    },
    {
     "data": {
      "text/plain": [
       "0.7077626019820773"
      ]
     },
     "execution_count": 3,
     "metadata": {},
     "output_type": "execute_result"
    }
   ],
   "source": [
    "foamdir = '/home/ryley/ML/foam/run/turbo-rans/bayesian_a1_betaStar_airfoil/airfoil_template'\n",
    "tunerdir = os.path.join(foamdir,'tuner')\n",
    "ref_df = pd.read_csv(os.path.join(tunerdir,'refdata.csv'))\n",
    "\n",
    "ref_df.describe()\n",
    "foamLoss = computeFoamFieldLossFunc(foamdir=foamdir,\n",
    "                                    ref_df=ref_df,\n",
    "                                    interp_method='nearest',read_cell_centres=False)\n",
    "foamLoss.foam_general_loss_function(foamtime = '0',\n",
    "                                    coef_default_dict={'a1':0.31,'betaStar':0.09},\n",
    "                                    coef_dict = {'a1':0.32, 'betaStar':0.15},\n",
    "                                    error_calc_fields=[],\n",
    "                                    error_calc_intparams=['Cl','Cd'])"
   ]
  },
  {
   "cell_type": "code",
   "execution_count": 2,
   "id": "8da33ef5-aa0b-4604-832c-57e6df853cbe",
   "metadata": {
    "tags": []
   },
   "outputs": [
    {
     "name": "stderr",
     "output_type": "stream",
     "text": [
      "INFO:general:Starting: decomposePar -force -case /home/ryley/ML/foam/run/turbo-rans/bayesian_a1_betaStar_airfoil/airfoil_50iter in /home/ryley/ML/turbo-rans\n",
      "INFO:general:Started with PID 28615\n"
     ]
    },
    {
     "name": "stdout",
     "output_type": "stream",
     "text": [
      "{'a1': 0.31, 'betaStar': 0.09}\n"
     ]
    },
    {
     "name": "stderr",
     "output_type": "stream",
     "text": [
      "INFO:general:Finished\n",
      "INFO:general:Starting: mpirun -n 8 simpleFoam -parallel -case /home/ryley/ML/foam/run/turbo-rans/bayesian_a1_betaStar_airfoil/airfoil_50iter in /home/ryley/ML/turbo-rans\n",
      "INFO:general:Started with PID 28620\n",
      "INFO:general:Finished\n",
      "INFO:general:Starting: reconstructPar -latestTime -case /home/ryley/ML/foam/run/turbo-rans/bayesian_a1_betaStar_airfoil/airfoil_50iter in /home/ryley/ML/turbo-rans\n",
      "INFO:general:Started with PID 28655\n",
      "INFO:general:Finished\n",
      "INFO:general:Starting: decomposePar -force -case /home/ryley/ML/foam/run/turbo-rans/bayesian_a1_betaStar_airfoil/airfoil_50iter in /home/ryley/ML/turbo-rans\n",
      "INFO:general:Started with PID 28666\n"
     ]
    },
    {
     "name": "stdout",
     "output_type": "stream",
     "text": [
      "{'a1': 0.3447099302377742, 'betaStar': 0.09138585133477561}\n"
     ]
    },
    {
     "name": "stderr",
     "output_type": "stream",
     "text": [
      "INFO:general:Finished\n",
      "INFO:general:Starting: mpirun -n 8 simpleFoam -parallel -case /home/ryley/ML/foam/run/turbo-rans/bayesian_a1_betaStar_airfoil/airfoil_50iter in /home/ryley/ML/turbo-rans\n",
      "INFO:general:Started with PID 28671\n",
      "INFO:general:Finished\n",
      "INFO:general:Starting: reconstructPar -latestTime -case /home/ryley/ML/foam/run/turbo-rans/bayesian_a1_betaStar_airfoil/airfoil_50iter in /home/ryley/ML/turbo-rans\n",
      "INFO:general:Started with PID 28706\n",
      "INFO:general:Finished\n",
      "INFO:general:Starting: decomposePar -force -case /home/ryley/ML/foam/run/turbo-rans/bayesian_a1_betaStar_airfoil/airfoil_50iter in /home/ryley/ML/turbo-rans\n",
      "INFO:general:Started with PID 28713\n"
     ]
    },
    {
     "name": "stdout",
     "output_type": "stream",
     "text": [
      "{'a1': 0.3023627446986708, 'betaStar': 0.09004033669175776}\n"
     ]
    },
    {
     "name": "stderr",
     "output_type": "stream",
     "text": [
      "INFO:general:Finished\n",
      "INFO:general:Starting: mpirun -n 8 simpleFoam -parallel -case /home/ryley/ML/foam/run/turbo-rans/bayesian_a1_betaStar_airfoil/airfoil_50iter in /home/ryley/ML/turbo-rans\n",
      "INFO:general:Started with PID 28718\n",
      "INFO:general:Finished\n",
      "INFO:general:Starting: reconstructPar -latestTime -case /home/ryley/ML/foam/run/turbo-rans/bayesian_a1_betaStar_airfoil/airfoil_50iter in /home/ryley/ML/turbo-rans\n",
      "INFO:general:Started with PID 28753\n",
      "INFO:general:Finished\n",
      "INFO:general:Starting: decomposePar -force -case /home/ryley/ML/foam/run/turbo-rans/bayesian_a1_betaStar_airfoil/airfoil_50iter in /home/ryley/ML/turbo-rans\n",
      "INFO:general:Started with PID 28760\n"
     ]
    },
    {
     "name": "stdout",
     "output_type": "stream",
     "text": [
      "{'a1': 0.3377096820510367, 'betaStar': 0.07459384080095141}\n"
     ]
    },
    {
     "name": "stderr",
     "output_type": "stream",
     "text": [
      "INFO:general:Finished\n",
      "INFO:general:Starting: mpirun -n 8 simpleFoam -parallel -case /home/ryley/ML/foam/run/turbo-rans/bayesian_a1_betaStar_airfoil/airfoil_50iter in /home/ryley/ML/turbo-rans\n",
      "INFO:general:Started with PID 28765\n",
      "WARNING:general:Keyboard Interrupt\n",
      "WARNING:general:Killing PID 28765\n",
      "INFO:general:Finished\n",
      "INFO:general:Starting: reconstructPar -latestTime -case /home/ryley/ML/foam/run/turbo-rans/bayesian_a1_betaStar_airfoil/airfoil_50iter in /home/ryley/ML/turbo-rans\n",
      "INFO:general:Started with PID 28801\n",
      "INFO:general:Finished\n"
     ]
    },
    {
     "name": "stdout",
     "output_type": "stream",
     "text": [
      " Interrupted by the Keyboard\n",
      "Killing PID 28765\n",
      "{'a1': 0.3023664693596941, 'betaStar': 0.09008447261706655}\n"
     ]
    },
    {
     "name": "stderr",
     "output_type": "stream",
     "text": [
      "\n",
      "KeyboardInterrupt\n",
      "\n"
     ]
    }
   ],
   "source": [
    "# Run simulation loop\n",
    "foamdir = '/home/ryley/ML/foam/run/turbo-rans/bayesian_a1_betaStar_airfoil/airfoil_50iter'\n",
    "savedir = '/home/ryley/ML/foam/run/turbo-rans/bayesian_a1_betaStar_airfoil/airfoil_50iter_opt'\n",
    "\n",
    "tunerdir = os.path.join(foamdir,'tuner')\n",
    "iterations=50\n",
    "n_points_sampled = 4\n",
    "utility = 'poi'\n",
    "xi = 0.1\n",
    "ref_df = pd.read_csv(os.path.join(tunerdir,'refdata.csv'))\n",
    "\n",
    "\n",
    "initialize(directory = tunerdir,\n",
    "           coeff_bounds = None,\n",
    "           coeff_default = None,\n",
    "           restart = True)\n",
    "\n",
    "foamLoss = computeFoamFieldLossFunc(foamdir=foamdir,\n",
    "                                    ref_df=ref_df,\n",
    "                                    interp_method='nearest',\n",
    "                                    read_cell_centres=False)\n",
    "np.random.seed(7)\n",
    "a1_rand = np.random.uniform(.248, .372, size=(n_points_sampled))\n",
    "betaStar_rand = np.random.uniform(.072, .108, size=(n_points_sampled))\n",
    "score_best = 1E6 \n",
    "\n",
    "for i in range(iterations):\n",
    "    if i == 0:\n",
    "        search_point=load_coeff_default(directory=tunerdir)\n",
    "        write_suggestion(directory=tunerdir, suggestion=search_point)\n",
    "    elif i < n_points_sampled:\n",
    "        search_point = {\"a1\": a1_rand[i], \"betaStar\": betaStar_rand[i]}\n",
    "        write_suggestion(directory=tunerdir, suggestion=search_point)\n",
    "    else:\n",
    "        suggest(directory=tunerdir, random_state=7,utility_kind = utility, xi=xi)\n",
    "    \n",
    "    search_point = load_suggestion(directory=tunerdir)\n",
    "    print(search_point)\n",
    "    set_foam_coef(foamdir,search_point)\n",
    "    last_time = run_until_convergence(case=foamdir, n_proc = 8)\n",
    "    score = -foamLoss.foam_gedcp(foamtime=last_time,\n",
    "                                                   coef_default_dict = load_coeff_default(directory=tunerdir),\n",
    "                                                   coef_dict=search_point,\n",
    "                                                   error_calc_fields=[],\n",
    "                                                   error_calc_intparams=['Cl'],\n",
    "                                                   error_type = 'mape'\n",
    "                                                  )\n",
    "                                                   \n",
    "    register_score(score=score, directory=tunerdir)\n",
    "    if abs(score) < abs(score_best):   \n",
    "        score_best = score\n",
    "        os.system(f'rm -r {savedir}')\n",
    "        os.system(f'cp -r {foamdir} {savedir}')\n",
    "\n",
    "    "
   ]
  }
 ],
 "metadata": {
  "kernelspec": {
   "display_name": "Python 3 (ipykernel)",
   "language": "python",
   "name": "python3"
  },
  "language_info": {
   "codemirror_mode": {
    "name": "ipython",
    "version": 3
   },
   "file_extension": ".py",
   "mimetype": "text/x-python",
   "name": "python",
   "nbconvert_exporter": "python",
   "pygments_lexer": "ipython3",
   "version": "3.10.4"
  },
  "toc-autonumbering": true
 },
 "nbformat": 4,
 "nbformat_minor": 5
}
