{
 "cells": [
  {
   "cell_type": "code",
   "execution_count": 1,
   "id": "457f23fb-9812-4962-a2ae-7506e372bcc1",
   "metadata": {},
   "outputs": [],
   "source": [
    "import numpy as np\n",
    "import os\n",
    "import fileinput\n",
    "import sys\n",
    "import pandas as pd\n",
    "import matplotlib.pyplot as plt\n",
    "\n",
    "from utilities.foam_automation.caserunner import run_until_convergence, get_endtime\n",
    "from utilities.foam_automation.computeFoamLossFunc import computeFoamFieldLossFunc\n",
    "from utilities.foam_automation.set_foam_coeff import set_foam_coef\n",
    "\n",
    "from utilities.json_io import write_suggestion, write_json, load_coeff_default, load_coeff_bounds, load_history_loss_log, load_suggestion\n",
    "\n",
    "from utilities.control import initialize\n",
    "from update_history import register_score\n",
    "from suggest_coeffs import suggest\n",
    "import random"
   ]
  },
  {
   "cell_type": "markdown",
   "id": "28e03731-b446-4722-9da8-467dde7d6c33",
   "metadata": {
    "tags": []
   },
   "source": [
    "# Bayesian optimization"
   ]
  },
  {
   "cell_type": "code",
   "execution_count": 2,
   "id": "8da33ef5-aa0b-4604-832c-57e6df853cbe",
   "metadata": {
    "scrolled": true,
    "tags": []
   },
   "outputs": [
    {
     "name": "stdout",
     "output_type": "stream",
     "text": [
      "Did not get coefficient bounds dict for initialization, assuming coeff_bounds.json exists in /home/ryley/ML/foam/run/turbo-rans/bayesian_a1_betaStar_phll/case_1p0_20iter/tuner\n",
      "Did not get coefficient default dict for initialization, assuming coeff_default.json exists in /home/ryley/ML/foam/run/turbo-rans/bayesian_a1_betaStar_phll/case_1p0_20iter/tuner or is not needed\n",
      "Removing old history and suggestion files....\n",
      "Saving suggestion to /home/ryley/ML/foam/run/turbo-rans/bayesian_a1_betaStar_phll/case_1p0_20iter/tuner/suggestion.json\n",
      "{'a1': 0.31, 'betaStar': 0.09}\n",
      "error_term 6.113326585006639e-06\n",
      "coef_term 0.0\n",
      "score 6.113326585006639e-06\n",
      "No history file exists at /home/ryley/ML/foam/run/turbo-rans/bayesian_a1_betaStar_phll/case_1p0_20iter/tuner/history.json, creating and registering first point\n",
      "Registering score in /home/ryley/ML/foam/run/turbo-rans/bayesian_a1_betaStar_phll/case_1p0_20iter/tuner/history.json\n",
      "Saving suggestion to /home/ryley/ML/foam/run/turbo-rans/bayesian_a1_betaStar_phll/case_1p0_20iter/tuner/suggestion.json\n",
      "{'a1': 0.5207707652064413, 'betaStar': 0.0961571076889912}\n",
      " Interrupted by the Keyboard\n",
      "Killing PID 18766\n",
      "error_term 6.11332979447776e-06\n",
      "coef_term 0.37415900093489224\n",
      "score 7.257008478621415e-06\n",
      "Registering score in /home/ryley/ML/foam/run/turbo-rans/bayesian_a1_betaStar_phll/case_1p0_20iter/tuner/history.json\n",
      "Saving suggestion to /home/ryley/ML/foam/run/turbo-rans/bayesian_a1_betaStar_phll/case_1p0_20iter/tuner/suggestion.json\n",
      "{'a1': 0.3978273233187216, 'betaStar': 0.09260644404769411}\n",
      " Interrupted by the Keyboard\n",
      "Killing PID 18834\n",
      " Interrupted by the Keyboard\n",
      "Killing PID 18839\n",
      "error_term 6.11332979447776e-06\n",
      "coef_term 0.156137217804124\n",
      "score 6.590588947292167e-06\n",
      "Registering score in /home/ryley/ML/foam/run/turbo-rans/bayesian_a1_betaStar_phll/case_1p0_20iter/tuner/history.json\n",
      "Saving suggestion to /home/ryley/ML/foam/run/turbo-rans/bayesian_a1_betaStar_phll/case_1p0_20iter/tuner/suggestion.json\n",
      "{'a1': 0.5004474640191388, 'betaStar': 0.05184485766917735}\n",
      " Interrupted by the Keyboard\n",
      "Killing PID 18851\n"
     ]
    },
    {
     "name": "stderr",
     "output_type": "stream",
     "text": [
      "rm: cannot remove '/home/ryley/ML/foam/run/turbo-rans/bayesian_a1_betaStar_phll/case_1p0_20iter/processor*': No such file or directory\n"
     ]
    },
    {
     "name": "stdout",
     "output_type": "stream",
     "text": [
      " Interrupted by the Keyboard\n",
      "Killing PID 18856\n",
      "error_term 6.11332979447776e-06\n",
      "coef_term 0.5191463420121418\n",
      "score 7.700186194636245e-06\n",
      "Registering score in /home/ryley/ML/foam/run/turbo-rans/bayesian_a1_betaStar_phll/case_1p0_20iter/tuner/history.json\n"
     ]
    },
    {
     "name": "stderr",
     "output_type": "stream",
     "text": [
      "rm: cannot remove '/home/ryley/ML/foam/run/turbo-rans/bayesian_a1_betaStar_phll/case_1p0_20iter/processor*': No such file or directory\n",
      "\n",
      "KeyboardInterrupt\n",
      "\n"
     ]
    }
   ],
   "source": [
    "# Run simulation loop\n",
    "foamdir = '/home/ryley/ML/foam/run/turbo-rans/bayesian_a1_betaStar_phll/case_1p0_20iter'\n",
    "savedir = '/home/ryley/ML/foam/run/turbo-rans/bayesian_a1_betaStar_phll/case_1p0_20iter_opt'\n",
    "\n",
    "tunerdir = os.path.join(foamdir,'tuner')\n",
    "iterations=30\n",
    "n_points_sampled = 4\n",
    "utility = 'poi'\n",
    "xi = 0.1\n",
    "ref_df = pd.read_csv(os.path.join(tunerdir,'refdata.csv'))\n",
    "\n",
    "\n",
    "initialize(directory = tunerdir,\n",
    "           coeff_bounds = None,\n",
    "           coeff_default = None,\n",
    "           restart = True)\n",
    "\n",
    "foamLoss = computeFoamFieldLossFunc(foamdir=foamdir,\n",
    "                                    ref_df=ref_df,\n",
    "                                    interp_method='nearest')\n",
    "np.random.seed(7)\n",
    "a1_rand = np.random.uniform(.24, .6, size=(n_points_sampled))\n",
    "betaStar_rand = np.random.uniform(.045, .14, size=(n_points_sampled))\n",
    "score_best = 1E6 \n",
    "\n",
    "for i in range(iterations):\n",
    "    if i == 0:\n",
    "        search_point=load_coeff_default(directory=tunerdir)\n",
    "        write_suggestion(directory=tunerdir, suggestion=search_point)\n",
    "    elif i < n_points_sampled:\n",
    "        search_point = {\"a1\": a1_rand[i], \"betaStar\": betaStar_rand[i]}\n",
    "        write_suggestion(directory=tunerdir, suggestion=search_point)\n",
    "    else:\n",
    "        suggest(directory=tunerdir, random_state=7,utility_kind = utility, xi=xi)\n",
    "    \n",
    "    search_point = load_suggestion(directory=tunerdir)\n",
    "    print(search_point)\n",
    "    set_foam_coef(foamdir,search_point)\n",
    "    last_time = run_until_convergence(case=foamdir, n_proc = 8)\n",
    "    score = -foamLoss.foam_general_loss_function(foamtime=last_time,\n",
    "                                                   coef_default_dict = load_coeff_default(directory=tunerdir),\n",
    "                                                   coef_dict=search_point,\n",
    "                                                   error_calc_fields=['U','k'],\n",
    "                                                   error_calc_intparams=[],\n",
    "                                                   error_type = 'mse'\n",
    "                                                  )\n",
    "                                                   \n",
    "    register_score(score=score, directory=tunerdir)\n",
    "    if abs(score) < abs(score_best):   \n",
    "        score_best = score\n",
    "        os.system(f'rm -r {savedir}')\n",
    "        os.system(f'cp -r {foamdir} {savedir}')\n",
    "\n",
    "    "
   ]
  }
 ],
 "metadata": {
  "kernelspec": {
   "display_name": "Python 3 (ipykernel)",
   "language": "python",
   "name": "python3"
  },
  "language_info": {
   "codemirror_mode": {
    "name": "ipython",
    "version": 3
   },
   "file_extension": ".py",
   "mimetype": "text/x-python",
   "name": "python",
   "nbconvert_exporter": "python",
   "pygments_lexer": "ipython3",
   "version": "3.10.4"
  },
  "toc-autonumbering": true
 },
 "nbformat": 4,
 "nbformat_minor": 5
}
