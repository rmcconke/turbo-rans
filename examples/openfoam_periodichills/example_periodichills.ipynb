{
 "cells": [
  {
   "cell_type": "code",
   "execution_count": 2,
   "id": "457f23fb-9812-4962-a2ae-7506e372bcc1",
   "metadata": {},
   "outputs": [],
   "source": [
    "import numpy as np\n",
    "import os\n",
    "import fileinput\n",
    "import sys\n",
    "import pandas as pd\n",
    "import matplotlib.pyplot as plt\n",
    "\n",
    "from turborans.utilities.foam_automation.caserunner import run_until_convergence, get_endtime\n",
    "from turborans.utilities.foam_automation.computeFoamLossFunc import computeFoamFieldLossFunc\n",
    "from turborans.utilities.foam_automation.set_foam_coeff import set_foam_coef\n",
    "from turborans.utilities.json_io import write_suggestion, write_json, load_coeff_default, load_coeff_bounds, load_history_loss_log, load_suggestion\n",
    "from turborans.utilities.control import initialize\n",
    "from turborans.update_history import register_score\n",
    "from turborans.suggest_coeffs import suggest\n",
    "\n",
    "import random"
   ]
  },
  {
   "cell_type": "markdown",
   "id": "28e03731-b446-4722-9da8-467dde7d6c33",
   "metadata": {
    "tags": []
   },
   "source": [
    "# Bayesian optimization"
   ]
  },
  {
   "cell_type": "code",
   "execution_count": 3,
   "id": "8da33ef5-aa0b-4604-832c-57e6df853cbe",
   "metadata": {
    "scrolled": true,
    "tags": []
   },
   "outputs": [
    {
     "name": "stderr",
     "output_type": "stream",
     "text": [
      "INFO:general:Starting: decomposePar -force -case periodichills_tuner in /home/ryley/ML/turborans/examples/openfoam_periodichills\n",
      "INFO:general:Started with PID 11411\n"
     ]
    },
    {
     "name": "stdout",
     "output_type": "stream",
     "text": [
      "{'a1': 0.31, 'betaStar': 0.09}\n"
     ]
    },
    {
     "name": "stderr",
     "output_type": "stream",
     "text": [
      "INFO:general:Finished\n",
      "INFO:general:Starting: mpirun -n 8 simpleFoam -parallel -case periodichills_tuner in /home/ryley/ML/turborans/examples/openfoam_periodichills\n",
      "INFO:general:Started with PID 11416\n",
      "INFO:general:Finished\n",
      "INFO:general:Starting: reconstructPar -latestTime -case periodichills_tuner in /home/ryley/ML/turborans/examples/openfoam_periodichills\n",
      "INFO:general:Started with PID 11451\n",
      "INFO:general:Finished\n",
      "rm: cannot remove 'periodichills_tuner_opt': No such file or directory\n",
      "INFO:general:Starting: decomposePar -force -case periodichills_tuner in /home/ryley/ML/turborans/examples/openfoam_periodichills\n",
      "INFO:general:Started with PID 11462\n"
     ]
    },
    {
     "name": "stdout",
     "output_type": "stream",
     "text": [
      "{'a1': 0.5207707652064413, 'betaStar': 0.0961571076889912}\n"
     ]
    },
    {
     "name": "stderr",
     "output_type": "stream",
     "text": [
      "INFO:general:Finished\n",
      "INFO:general:Starting: mpirun -n 8 simpleFoam -parallel -case periodichills_tuner in /home/ryley/ML/turborans/examples/openfoam_periodichills\n",
      "INFO:general:Started with PID 11467\n",
      "INFO:general:Finished\n",
      "INFO:general:Starting: reconstructPar -latestTime -case periodichills_tuner in /home/ryley/ML/turborans/examples/openfoam_periodichills\n",
      "INFO:general:Started with PID 11648\n",
      "INFO:general:Finished\n",
      "INFO:general:Starting: decomposePar -force -case periodichills_tuner in /home/ryley/ML/turborans/examples/openfoam_periodichills\n",
      "INFO:general:Started with PID 11660\n"
     ]
    },
    {
     "name": "stdout",
     "output_type": "stream",
     "text": [
      "{'a1': 0.3978273233187216, 'betaStar': 0.09260644404769411}\n"
     ]
    },
    {
     "name": "stderr",
     "output_type": "stream",
     "text": [
      "INFO:general:Finished\n",
      "INFO:general:Starting: mpirun -n 8 simpleFoam -parallel -case periodichills_tuner in /home/ryley/ML/turborans/examples/openfoam_periodichills\n",
      "INFO:general:Started with PID 11665\n",
      "INFO:general:Finished\n",
      "INFO:general:Starting: reconstructPar -latestTime -case periodichills_tuner in /home/ryley/ML/turborans/examples/openfoam_periodichills\n",
      "INFO:general:Started with PID 11719\n",
      "INFO:general:Finished\n",
      "INFO:general:Starting: decomposePar -force -case periodichills_tuner in /home/ryley/ML/turborans/examples/openfoam_periodichills\n",
      "INFO:general:Started with PID 11730\n"
     ]
    },
    {
     "name": "stdout",
     "output_type": "stream",
     "text": [
      "{'a1': 0.5004474640191388, 'betaStar': 0.05184485766917735}\n"
     ]
    },
    {
     "name": "stderr",
     "output_type": "stream",
     "text": [
      "INFO:general:Finished\n",
      "INFO:general:Starting: mpirun -n 8 simpleFoam -parallel -case periodichills_tuner in /home/ryley/ML/turborans/examples/openfoam_periodichills\n",
      "INFO:general:Started with PID 11735\n",
      "INFO:general:Finished\n",
      "INFO:general:Starting: reconstructPar -latestTime -case periodichills_tuner in /home/ryley/ML/turborans/examples/openfoam_periodichills\n",
      "INFO:general:Started with PID 11822\n",
      "INFO:general:Finished\n",
      "INFO:general:Starting: decomposePar -force -case periodichills_tuner in /home/ryley/ML/turborans/examples/openfoam_periodichills\n",
      "INFO:general:Started with PID 11829\n"
     ]
    },
    {
     "name": "stdout",
     "output_type": "stream",
     "text": [
      "{'a1': 0.353695168383956, 'betaStar': 0.11962041597763527}\n"
     ]
    },
    {
     "name": "stderr",
     "output_type": "stream",
     "text": [
      "INFO:general:Finished\n",
      "INFO:general:Starting: mpirun -n 8 simpleFoam -parallel -case periodichills_tuner in /home/ryley/ML/turborans/examples/openfoam_periodichills\n",
      "INFO:general:Started with PID 11834\n",
      "INFO:general:Finished\n",
      "INFO:general:Starting: reconstructPar -latestTime -case periodichills_tuner in /home/ryley/ML/turborans/examples/openfoam_periodichills\n",
      "INFO:general:Started with PID 11883\n",
      "INFO:general:Finished\n",
      "INFO:general:Starting: decomposePar -force -case periodichills_tuner in /home/ryley/ML/turborans/examples/openfoam_periodichills\n",
      "INFO:general:Started with PID 11890\n"
     ]
    },
    {
     "name": "stdout",
     "output_type": "stream",
     "text": [
      "{'a1': 0.5246432977854425, 'betaStar': 0.13888009174803218}\n"
     ]
    },
    {
     "name": "stderr",
     "output_type": "stream",
     "text": [
      "INFO:general:Finished\n",
      "INFO:general:Starting: mpirun -n 8 simpleFoam -parallel -case periodichills_tuner in /home/ryley/ML/turborans/examples/openfoam_periodichills\n",
      "INFO:general:Started with PID 11895\n",
      "INFO:general:Finished\n",
      "INFO:general:Starting: reconstructPar -latestTime -case periodichills_tuner in /home/ryley/ML/turborans/examples/openfoam_periodichills\n",
      "INFO:general:Started with PID 11952\n",
      "INFO:general:Finished\n",
      "INFO:general:Starting: decomposePar -force -case periodichills_tuner in /home/ryley/ML/turborans/examples/openfoam_periodichills\n",
      "INFO:general:Started with PID 11959\n"
     ]
    },
    {
     "name": "stdout",
     "output_type": "stream",
     "text": [
      "{'a1': 0.45675344704105697, 'betaStar': 0.06345883146084275}\n"
     ]
    },
    {
     "name": "stderr",
     "output_type": "stream",
     "text": [
      "INFO:general:Finished\n",
      "INFO:general:Starting: mpirun -n 8 simpleFoam -parallel -case periodichills_tuner in /home/ryley/ML/turborans/examples/openfoam_periodichills\n",
      "INFO:general:Started with PID 11964\n",
      "INFO:general:Finished\n",
      "INFO:general:Starting: reconstructPar -latestTime -case periodichills_tuner in /home/ryley/ML/turborans/examples/openfoam_periodichills\n",
      "INFO:general:Started with PID 12234\n",
      "INFO:general:Finished\n",
      "INFO:general:Starting: decomposePar -force -case periodichills_tuner in /home/ryley/ML/turborans/examples/openfoam_periodichills\n",
      "INFO:general:Started with PID 12241\n"
     ]
    },
    {
     "name": "stdout",
     "output_type": "stream",
     "text": [
      "{'a1': 0.4566939109033002, 'betaStar': 0.06349407031259753}\n"
     ]
    },
    {
     "name": "stderr",
     "output_type": "stream",
     "text": [
      "INFO:general:Finished\n",
      "INFO:general:Starting: mpirun -n 8 simpleFoam -parallel -case periodichills_tuner in /home/ryley/ML/turborans/examples/openfoam_periodichills\n",
      "INFO:general:Started with PID 12247\n",
      "INFO:general:Finished\n",
      "INFO:general:Starting: reconstructPar -latestTime -case periodichills_tuner in /home/ryley/ML/turborans/examples/openfoam_periodichills\n",
      "INFO:general:Started with PID 12334\n",
      "INFO:general:Finished\n",
      "INFO:general:Starting: decomposePar -force -case periodichills_tuner in /home/ryley/ML/turborans/examples/openfoam_periodichills\n",
      "INFO:general:Started with PID 12341\n"
     ]
    },
    {
     "name": "stdout",
     "output_type": "stream",
     "text": [
      "{'a1': 0.4040527433067132, 'betaStar': 0.08943725617141783}\n"
     ]
    },
    {
     "name": "stderr",
     "output_type": "stream",
     "text": [
      "INFO:general:Finished\n",
      "INFO:general:Starting: mpirun -n 8 simpleFoam -parallel -case periodichills_tuner in /home/ryley/ML/turborans/examples/openfoam_periodichills\n",
      "INFO:general:Started with PID 12346\n",
      "INFO:general:Finished\n",
      "INFO:general:Starting: reconstructPar -latestTime -case periodichills_tuner in /home/ryley/ML/turborans/examples/openfoam_periodichills\n",
      "INFO:general:Started with PID 12426\n",
      "INFO:general:Finished\n",
      "INFO:general:Starting: decomposePar -force -case periodichills_tuner in /home/ryley/ML/turborans/examples/openfoam_periodichills\n",
      "INFO:general:Started with PID 12438\n"
     ]
    },
    {
     "name": "stdout",
     "output_type": "stream",
     "text": [
      "{'a1': 0.4153861626604775, 'betaStar': 0.08410864466999701}\n"
     ]
    },
    {
     "name": "stderr",
     "output_type": "stream",
     "text": [
      "INFO:general:Finished\n",
      "INFO:general:Starting: mpirun -n 8 simpleFoam -parallel -case periodichills_tuner in /home/ryley/ML/turborans/examples/openfoam_periodichills\n",
      "INFO:general:Started with PID 12443\n",
      "INFO:general:Finished\n",
      "INFO:general:Starting: reconstructPar -latestTime -case periodichills_tuner in /home/ryley/ML/turborans/examples/openfoam_periodichills\n",
      "INFO:general:Started with PID 12592\n",
      "INFO:general:Finished\n",
      "INFO:general:Starting: decomposePar -force -case periodichills_tuner in /home/ryley/ML/turborans/examples/openfoam_periodichills\n",
      "INFO:general:Started with PID 12604\n"
     ]
    },
    {
     "name": "stdout",
     "output_type": "stream",
     "text": [
      "{'a1': 0.4172252144620027, 'betaStar': 0.07119912477533524}\n"
     ]
    },
    {
     "name": "stderr",
     "output_type": "stream",
     "text": [
      "INFO:general:Finished\n",
      "INFO:general:Starting: mpirun -n 8 simpleFoam -parallel -case periodichills_tuner in /home/ryley/ML/turborans/examples/openfoam_periodichills\n",
      "INFO:general:Started with PID 12609\n",
      "INFO:general:Finished\n",
      "INFO:general:Starting: reconstructPar -latestTime -case periodichills_tuner in /home/ryley/ML/turborans/examples/openfoam_periodichills\n",
      "INFO:general:Started with PID 12677\n",
      "INFO:general:Finished\n",
      "INFO:general:Starting: decomposePar -force -case periodichills_tuner in /home/ryley/ML/turborans/examples/openfoam_periodichills\n",
      "INFO:general:Started with PID 12684\n"
     ]
    },
    {
     "name": "stdout",
     "output_type": "stream",
     "text": [
      "{'a1': 0.4254973263292165, 'betaStar': 0.09182303905333282}\n"
     ]
    },
    {
     "name": "stderr",
     "output_type": "stream",
     "text": [
      "INFO:general:Finished\n",
      "INFO:general:Starting: mpirun -n 8 simpleFoam -parallel -case periodichills_tuner in /home/ryley/ML/turborans/examples/openfoam_periodichills\n",
      "INFO:general:Started with PID 12689\n",
      "INFO:general:Finished\n",
      "INFO:general:Starting: reconstructPar -latestTime -case periodichills_tuner in /home/ryley/ML/turborans/examples/openfoam_periodichills\n",
      "INFO:general:Started with PID 12745\n",
      "INFO:general:Finished\n",
      "INFO:general:Starting: decomposePar -force -case periodichills_tuner in /home/ryley/ML/turborans/examples/openfoam_periodichills\n",
      "INFO:general:Started with PID 12752\n"
     ]
    },
    {
     "name": "stdout",
     "output_type": "stream",
     "text": [
      "{'a1': 0.3825190315644027, 'betaStar': 0.06425736405645291}\n"
     ]
    },
    {
     "name": "stderr",
     "output_type": "stream",
     "text": [
      "INFO:general:Finished\n",
      "INFO:general:Starting: mpirun -n 8 simpleFoam -parallel -case periodichills_tuner in /home/ryley/ML/turborans/examples/openfoam_periodichills\n",
      "INFO:general:Started with PID 12757\n",
      "INFO:general:Finished\n",
      "INFO:general:Starting: reconstructPar -latestTime -case periodichills_tuner in /home/ryley/ML/turborans/examples/openfoam_periodichills\n",
      "INFO:general:Started with PID 12850\n",
      "INFO:general:Finished\n",
      "INFO:general:Starting: decomposePar -force -case periodichills_tuner in /home/ryley/ML/turborans/examples/openfoam_periodichills\n",
      "INFO:general:Started with PID 12857\n"
     ]
    },
    {
     "name": "stdout",
     "output_type": "stream",
     "text": [
      "{'a1': 0.26844776542102095, 'betaStar': 0.06056806167084318}\n"
     ]
    },
    {
     "name": "stderr",
     "output_type": "stream",
     "text": [
      "INFO:general:Finished\n",
      "INFO:general:Starting: mpirun -n 8 simpleFoam -parallel -case periodichills_tuner in /home/ryley/ML/turborans/examples/openfoam_periodichills\n",
      "INFO:general:Started with PID 12862\n",
      "INFO:general:Finished\n",
      "INFO:general:Starting: reconstructPar -latestTime -case periodichills_tuner in /home/ryley/ML/turborans/examples/openfoam_periodichills\n",
      "INFO:general:Started with PID 12921\n",
      "INFO:general:Finished\n",
      "INFO:general:Starting: decomposePar -force -case periodichills_tuner in /home/ryley/ML/turborans/examples/openfoam_periodichills\n",
      "INFO:general:Started with PID 12928\n"
     ]
    },
    {
     "name": "stdout",
     "output_type": "stream",
     "text": [
      "{'a1': 0.2561570190740977, 'betaStar': 0.0737213101411926}\n"
     ]
    },
    {
     "name": "stderr",
     "output_type": "stream",
     "text": [
      "INFO:general:Finished\n",
      "INFO:general:Starting: mpirun -n 8 simpleFoam -parallel -case periodichills_tuner in /home/ryley/ML/turborans/examples/openfoam_periodichills\n",
      "INFO:general:Started with PID 12933\n",
      "INFO:general:Finished\n",
      "INFO:general:Starting: reconstructPar -latestTime -case periodichills_tuner in /home/ryley/ML/turborans/examples/openfoam_periodichills\n",
      "INFO:general:Started with PID 12989\n",
      "INFO:general:Finished\n"
     ]
    }
   ],
   "source": [
    "# Run simulation loop\n",
    "foamdir = 'periodichills_tuner'\n",
    "savedir = 'periodichills_tuner_opt'\n",
    "\n",
    "tunerdir = os.path.join(foamdir,'tuner')\n",
    "iterations=15\n",
    "n_points_sampled = 4\n",
    "utility = 'poi'\n",
    "xi = 0.1\n",
    "ref_df = pd.read_csv(os.path.join(tunerdir,'refdata.csv'))\n",
    "\n",
    "\n",
    "initialize(directory = tunerdir,\n",
    "           coeff_bounds = None,\n",
    "           coeff_default = None,\n",
    "           restart = True)\n",
    "\n",
    "foamLoss = computeFoamFieldLossFunc(foamdir=foamdir,\n",
    "                                    ref_df=ref_df,\n",
    "                                    interp_method='nearest')\n",
    "np.random.seed(7)\n",
    "a1_rand = np.random.uniform(.24, .6, size=(n_points_sampled))\n",
    "betaStar_rand = np.random.uniform(.045, .14, size=(n_points_sampled))\n",
    "score_best = 1E6 \n",
    "\n",
    "for i in range(iterations):\n",
    "    if i == 0:\n",
    "        search_point=load_coeff_default(directory=tunerdir)\n",
    "        write_suggestion(directory=tunerdir, suggestion=search_point)\n",
    "    elif i < n_points_sampled:\n",
    "        search_point = {\"a1\": a1_rand[i], \"betaStar\": betaStar_rand[i]}\n",
    "        write_suggestion(directory=tunerdir, suggestion=search_point)\n",
    "    else:\n",
    "        suggest(directory=tunerdir, random_state=7,utility_kind = utility, xi=xi)\n",
    "    \n",
    "    search_point = load_suggestion(directory=tunerdir)\n",
    "    print(search_point)\n",
    "    set_foam_coef(foamdir,search_point)\n",
    "    last_time = run_until_convergence(case=foamdir, n_proc = 8)\n",
    "    score = -foamLoss.foam_gedcp(foamtime=last_time,\n",
    "                                                   coef_default_dict = load_coeff_default(directory=tunerdir),\n",
    "                                                   coef_dict=search_point,\n",
    "                                                   error_calc_fields=['U','k'],\n",
    "                                                   error_calc_intparams=[],\n",
    "                                                   error_type = 'mse'\n",
    "                                                  )\n",
    "                                                   \n",
    "    register_score(score=score, directory=tunerdir)\n",
    "    if abs(score) < abs(score_best):   \n",
    "        score_best = score\n",
    "        os.system(f'rm -r {savedir}')\n",
    "        os.system(f'cp -r {foamdir} {savedir}')\n",
    "\n",
    "    "
   ]
  }
 ],
 "metadata": {
  "kernelspec": {
   "display_name": "Python 3 (ipykernel)",
   "language": "python",
   "name": "python3"
  },
  "language_info": {
   "codemirror_mode": {
    "name": "ipython",
    "version": 3
   },
   "file_extension": ".py",
   "mimetype": "text/x-python",
   "name": "python",
   "nbconvert_exporter": "python",
   "pygments_lexer": "ipython3",
   "version": "3.10.4"
  },
  "toc-autonumbering": true
 },
 "nbformat": 4,
 "nbformat_minor": 5
}
