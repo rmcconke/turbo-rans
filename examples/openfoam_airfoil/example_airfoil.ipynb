{
 "cells": [
  {
   "cell_type": "code",
   "execution_count": 1,
   "id": "457f23fb-9812-4962-a2ae-7506e372bcc1",
   "metadata": {},
   "outputs": [],
   "source": [
    "import numpy as np\n",
    "import os\n",
    "import fileinput\n",
    "import sys\n",
    "import pandas as pd\n",
    "import matplotlib.pyplot as plt\n",
    "\n",
    "from turborans.utilities.foam_automation.caserunner import run_until_convergence, get_endtime\n",
    "from turborans.utilities.foam_automation.computeFoamLossFunc import computeFoamFieldLossFunc\n",
    "from turborans.utilities.foam_automation.set_foam_coeff import set_foam_coef\n",
    "from turborans.utilities.json_io import write_suggestion, write_json, load_coeff_default, load_coeff_bounds, load_history_loss_log, load_suggestion\n",
    "from turborans.utilities.control import initialize\n",
    "from turborans.update_history import register_score\n",
    "from turborans.suggest_coeffs import suggest\n",
    "\n",
    "import random"
   ]
  },
  {
   "cell_type": "markdown",
   "id": "28e03731-b446-4722-9da8-467dde7d6c33",
   "metadata": {
    "tags": []
   },
   "source": [
    "# Bayesian optimization"
   ]
  },
  {
   "cell_type": "code",
   "execution_count": 4,
   "id": "8da33ef5-aa0b-4604-832c-57e6df853cbe",
   "metadata": {
    "tags": []
   },
   "outputs": [
    {
     "name": "stderr",
     "output_type": "stream",
     "text": [
      "INFO:general:Starting: decomposePar -force -case airfoil_tuner in /home/ryley/ML/turborans/examples/openfoam_airfoil\n",
      "INFO:general:Started with PID 8169\n"
     ]
    },
    {
     "name": "stdout",
     "output_type": "stream",
     "text": [
      "{'a1': 0.31, 'betaStar': 0.09}\n"
     ]
    },
    {
     "name": "stderr",
     "output_type": "stream",
     "text": [
      "INFO:general:Finished\n",
      "INFO:general:Starting: mpirun -n 8 simpleFoam -parallel -case airfoil_tuner in /home/ryley/ML/turborans/examples/openfoam_airfoil\n",
      "INFO:general:Started with PID 8174\n",
      "INFO:general:Finished\n",
      "INFO:general:Starting: reconstructPar -latestTime -case airfoil_tuner in /home/ryley/ML/turborans/examples/openfoam_airfoil\n",
      "INFO:general:Started with PID 8209\n",
      "INFO:general:Finished\n",
      "rm: cannot remove 'airfoil_tuner_opt': No such file or directory\n",
      "INFO:general:Starting: decomposePar -force -case airfoil_tuner in /home/ryley/ML/turborans/examples/openfoam_airfoil\n",
      "INFO:general:Started with PID 8220\n"
     ]
    },
    {
     "name": "stdout",
     "output_type": "stream",
     "text": [
      "{'a1': 0.3447099302377742, 'betaStar': 0.09138585133477561}\n"
     ]
    },
    {
     "name": "stderr",
     "output_type": "stream",
     "text": [
      "INFO:general:Finished\n",
      "INFO:general:Starting: mpirun -n 8 simpleFoam -parallel -case airfoil_tuner in /home/ryley/ML/turborans/examples/openfoam_airfoil\n",
      "INFO:general:Started with PID 8225\n",
      "INFO:general:Finished\n",
      "INFO:general:Starting: reconstructPar -latestTime -case airfoil_tuner in /home/ryley/ML/turborans/examples/openfoam_airfoil\n",
      "INFO:general:Started with PID 8260\n",
      "INFO:general:Finished\n",
      "INFO:general:Starting: decomposePar -force -case airfoil_tuner in /home/ryley/ML/turborans/examples/openfoam_airfoil\n",
      "INFO:general:Started with PID 8267\n"
     ]
    },
    {
     "name": "stdout",
     "output_type": "stream",
     "text": [
      "{'a1': 0.3023627446986708, 'betaStar': 0.09004033669175776}\n"
     ]
    },
    {
     "name": "stderr",
     "output_type": "stream",
     "text": [
      "INFO:general:Finished\n",
      "INFO:general:Starting: mpirun -n 8 simpleFoam -parallel -case airfoil_tuner in /home/ryley/ML/turborans/examples/openfoam_airfoil\n",
      "INFO:general:Started with PID 8272\n",
      "INFO:general:Finished\n",
      "INFO:general:Starting: reconstructPar -latestTime -case airfoil_tuner in /home/ryley/ML/turborans/examples/openfoam_airfoil\n",
      "INFO:general:Started with PID 8307\n",
      "INFO:general:Finished\n",
      "INFO:general:Starting: decomposePar -force -case airfoil_tuner in /home/ryley/ML/turborans/examples/openfoam_airfoil\n",
      "INFO:general:Started with PID 8314\n"
     ]
    },
    {
     "name": "stdout",
     "output_type": "stream",
     "text": [
      "{'a1': 0.3377096820510367, 'betaStar': 0.07459384080095141}\n"
     ]
    },
    {
     "name": "stderr",
     "output_type": "stream",
     "text": [
      "INFO:general:Finished\n",
      "INFO:general:Starting: mpirun -n 8 simpleFoam -parallel -case airfoil_tuner in /home/ryley/ML/turborans/examples/openfoam_airfoil\n",
      "INFO:general:Started with PID 8319\n",
      "INFO:general:Finished\n",
      "INFO:general:Starting: reconstructPar -latestTime -case airfoil_tuner in /home/ryley/ML/turborans/examples/openfoam_airfoil\n",
      "INFO:general:Started with PID 8355\n",
      "INFO:general:Finished\n",
      "INFO:general:Starting: decomposePar -force -case airfoil_tuner in /home/ryley/ML/turborans/examples/openfoam_airfoil\n",
      "INFO:general:Started with PID 8362\n"
     ]
    },
    {
     "name": "stdout",
     "output_type": "stream",
     "text": [
      "{'a1': 0.3716913111159611, 'betaStar': 0.10739517581007829}\n"
     ]
    },
    {
     "name": "stderr",
     "output_type": "stream",
     "text": [
      "INFO:general:Finished\n",
      "INFO:general:Starting: mpirun -n 8 simpleFoam -parallel -case airfoil_tuner in /home/ryley/ML/turborans/examples/openfoam_airfoil\n",
      "INFO:general:Started with PID 8367\n",
      "INFO:general:Finished\n",
      "INFO:general:Starting: reconstructPar -latestTime -case airfoil_tuner in /home/ryley/ML/turborans/examples/openfoam_airfoil\n",
      "INFO:general:Started with PID 8402\n",
      "INFO:general:Finished\n",
      "INFO:general:Starting: decomposePar -force -case airfoil_tuner in /home/ryley/ML/turborans/examples/openfoam_airfoil\n",
      "INFO:general:Started with PID 8409\n"
     ]
    },
    {
     "name": "stdout",
     "output_type": "stream",
     "text": [
      "{'a1': 0.3023664693596941, 'betaStar': 0.09008447261706655}\n"
     ]
    },
    {
     "name": "stderr",
     "output_type": "stream",
     "text": [
      "INFO:general:Finished\n",
      "INFO:general:Starting: mpirun -n 8 simpleFoam -parallel -case airfoil_tuner in /home/ryley/ML/turborans/examples/openfoam_airfoil\n",
      "INFO:general:Started with PID 8414\n",
      "INFO:general:Finished\n",
      "INFO:general:Starting: reconstructPar -latestTime -case airfoil_tuner in /home/ryley/ML/turborans/examples/openfoam_airfoil\n",
      "INFO:general:Started with PID 8449\n",
      "INFO:general:Finished\n",
      "INFO:general:Starting: decomposePar -force -case airfoil_tuner in /home/ryley/ML/turborans/examples/openfoam_airfoil\n",
      "INFO:general:Started with PID 8456\n"
     ]
    },
    {
     "name": "stdout",
     "output_type": "stream",
     "text": [
      "{'a1': 0.26910385184437047, 'betaStar': 0.07210125185473475}\n"
     ]
    },
    {
     "name": "stderr",
     "output_type": "stream",
     "text": [
      "INFO:general:Finished\n",
      "INFO:general:Starting: mpirun -n 8 simpleFoam -parallel -case airfoil_tuner in /home/ryley/ML/turborans/examples/openfoam_airfoil\n",
      "INFO:general:Started with PID 8461\n",
      "INFO:general:Finished\n",
      "INFO:general:Starting: reconstructPar -latestTime -case airfoil_tuner in /home/ryley/ML/turborans/examples/openfoam_airfoil\n",
      "INFO:general:Started with PID 8497\n",
      "INFO:general:Finished\n",
      "INFO:general:Starting: decomposePar -force -case airfoil_tuner in /home/ryley/ML/turborans/examples/openfoam_airfoil\n",
      "INFO:general:Started with PID 8504\n"
     ]
    },
    {
     "name": "stdout",
     "output_type": "stream",
     "text": [
      "{'a1': 0.2606552794311635, 'betaStar': 0.10784197206850471}\n"
     ]
    },
    {
     "name": "stderr",
     "output_type": "stream",
     "text": [
      "INFO:general:Finished\n",
      "INFO:general:Starting: mpirun -n 8 simpleFoam -parallel -case airfoil_tuner in /home/ryley/ML/turborans/examples/openfoam_airfoil\n",
      "INFO:general:Started with PID 8509\n",
      "INFO:general:Finished\n",
      "INFO:general:Starting: reconstructPar -latestTime -case airfoil_tuner in /home/ryley/ML/turborans/examples/openfoam_airfoil\n",
      "INFO:general:Started with PID 8549\n",
      "INFO:general:Finished\n",
      "INFO:general:Starting: decomposePar -force -case airfoil_tuner in /home/ryley/ML/turborans/examples/openfoam_airfoil\n",
      "INFO:general:Started with PID 8561\n"
     ]
    },
    {
     "name": "stdout",
     "output_type": "stream",
     "text": [
      "{'a1': 0.37180730095500497, 'betaStar': 0.07298306688363987}\n"
     ]
    },
    {
     "name": "stderr",
     "output_type": "stream",
     "text": [
      "INFO:general:Finished\n",
      "INFO:general:Starting: mpirun -n 8 simpleFoam -parallel -case airfoil_tuner in /home/ryley/ML/turborans/examples/openfoam_airfoil\n",
      "INFO:general:Started with PID 8566\n",
      "INFO:general:Finished\n",
      "INFO:general:Starting: reconstructPar -latestTime -case airfoil_tuner in /home/ryley/ML/turborans/examples/openfoam_airfoil\n",
      "INFO:general:Started with PID 8602\n",
      "INFO:general:Finished\n",
      "INFO:general:Starting: decomposePar -force -case airfoil_tuner in /home/ryley/ML/turborans/examples/openfoam_airfoil\n",
      "INFO:general:Started with PID 8609\n"
     ]
    },
    {
     "name": "stdout",
     "output_type": "stream",
     "text": [
      "{'a1': 0.28423171758227406, 'betaStar': 0.10799785456137745}\n"
     ]
    },
    {
     "name": "stderr",
     "output_type": "stream",
     "text": [
      "INFO:general:Finished\n",
      "INFO:general:Starting: mpirun -n 8 simpleFoam -parallel -case airfoil_tuner in /home/ryley/ML/turborans/examples/openfoam_airfoil\n",
      "INFO:general:Started with PID 8614\n",
      "INFO:general:Finished\n",
      "INFO:general:Starting: reconstructPar -latestTime -case airfoil_tuner in /home/ryley/ML/turborans/examples/openfoam_airfoil\n",
      "INFO:general:Started with PID 8653\n",
      "INFO:general:Finished\n",
      "INFO:general:Starting: decomposePar -force -case airfoil_tuner in /home/ryley/ML/turborans/examples/openfoam_airfoil\n",
      "INFO:general:Started with PID 8665\n"
     ]
    },
    {
     "name": "stdout",
     "output_type": "stream",
     "text": [
      "{'a1': 0.275892526169531, 'betaStar': 0.09401698698176221}\n"
     ]
    },
    {
     "name": "stderr",
     "output_type": "stream",
     "text": [
      "INFO:general:Finished\n",
      "INFO:general:Starting: mpirun -n 8 simpleFoam -parallel -case airfoil_tuner in /home/ryley/ML/turborans/examples/openfoam_airfoil\n",
      "INFO:general:Started with PID 8670\n",
      "INFO:general:Finished\n",
      "INFO:general:Starting: reconstructPar -latestTime -case airfoil_tuner in /home/ryley/ML/turborans/examples/openfoam_airfoil\n",
      "INFO:general:Started with PID 8708\n",
      "INFO:general:Finished\n",
      "INFO:general:Starting: decomposePar -force -case airfoil_tuner in /home/ryley/ML/turborans/examples/openfoam_airfoil\n",
      "INFO:general:Started with PID 8715\n"
     ]
    },
    {
     "name": "stdout",
     "output_type": "stream",
     "text": [
      "{'a1': 0.3286505783476697, 'betaStar': 0.10790234158682718}\n"
     ]
    },
    {
     "name": "stderr",
     "output_type": "stream",
     "text": [
      "INFO:general:Finished\n",
      "INFO:general:Starting: mpirun -n 8 simpleFoam -parallel -case airfoil_tuner in /home/ryley/ML/turborans/examples/openfoam_airfoil\n",
      "INFO:general:Started with PID 8720\n",
      "INFO:general:Finished\n",
      "INFO:general:Starting: reconstructPar -latestTime -case airfoil_tuner in /home/ryley/ML/turborans/examples/openfoam_airfoil\n",
      "INFO:general:Started with PID 8755\n",
      "INFO:general:Finished\n",
      "INFO:general:Starting: decomposePar -force -case airfoil_tuner in /home/ryley/ML/turborans/examples/openfoam_airfoil\n",
      "INFO:general:Started with PID 8762\n"
     ]
    },
    {
     "name": "stdout",
     "output_type": "stream",
     "text": [
      "{'a1': 0.2905320334282349, 'betaStar': 0.07211525769507833}\n"
     ]
    },
    {
     "name": "stderr",
     "output_type": "stream",
     "text": [
      "INFO:general:Finished\n",
      "INFO:general:Starting: mpirun -n 8 simpleFoam -parallel -case airfoil_tuner in /home/ryley/ML/turborans/examples/openfoam_airfoil\n",
      "INFO:general:Started with PID 8767\n",
      "INFO:general:Finished\n",
      "INFO:general:Starting: reconstructPar -latestTime -case airfoil_tuner in /home/ryley/ML/turborans/examples/openfoam_airfoil\n",
      "INFO:general:Started with PID 8803\n",
      "INFO:general:Finished\n",
      "INFO:general:Starting: decomposePar -force -case airfoil_tuner in /home/ryley/ML/turborans/examples/openfoam_airfoil\n",
      "INFO:general:Started with PID 8810\n"
     ]
    },
    {
     "name": "stdout",
     "output_type": "stream",
     "text": [
      "{'a1': 0.3012715615450442, 'betaStar': 0.10790235289381722}\n"
     ]
    },
    {
     "name": "stderr",
     "output_type": "stream",
     "text": [
      "INFO:general:Finished\n",
      "INFO:general:Starting: mpirun -n 8 simpleFoam -parallel -case airfoil_tuner in /home/ryley/ML/turborans/examples/openfoam_airfoil\n",
      "INFO:general:Started with PID 8815\n",
      "INFO:general:Finished\n",
      "INFO:general:Starting: reconstructPar -latestTime -case airfoil_tuner in /home/ryley/ML/turborans/examples/openfoam_airfoil\n",
      "INFO:general:Started with PID 8853\n",
      "INFO:general:Finished\n",
      "INFO:general:Starting: decomposePar -force -case airfoil_tuner in /home/ryley/ML/turborans/examples/openfoam_airfoil\n",
      "INFO:general:Started with PID 8860\n"
     ]
    },
    {
     "name": "stdout",
     "output_type": "stream",
     "text": [
      "{'a1': 0.260050585342527, 'betaStar': 0.08742859575390859}\n"
     ]
    },
    {
     "name": "stderr",
     "output_type": "stream",
     "text": [
      "INFO:general:Finished\n",
      "INFO:general:Starting: mpirun -n 8 simpleFoam -parallel -case airfoil_tuner in /home/ryley/ML/turborans/examples/openfoam_airfoil\n",
      "INFO:general:Started with PID 8865\n",
      "INFO:general:Finished\n",
      "INFO:general:Starting: reconstructPar -latestTime -case airfoil_tuner in /home/ryley/ML/turborans/examples/openfoam_airfoil\n",
      "INFO:general:Started with PID 8902\n",
      "INFO:general:Finished\n"
     ]
    }
   ],
   "source": [
    "# Run simulation loop\n",
    "foamdir = 'airfoil_tuner'\n",
    "savedir = 'airfoil_tuner_opt'\n",
    "\n",
    "tunerdir = os.path.join(foamdir,'tuner')\n",
    "iterations=15\n",
    "n_points_sampled = 4\n",
    "utility = 'poi'\n",
    "xi = 0.1\n",
    "ref_df = pd.read_csv(os.path.join(tunerdir,'refdata.csv'))\n",
    "\n",
    "\n",
    "initialize(directory = tunerdir,\n",
    "           coeff_bounds = None,\n",
    "           coeff_default = None,\n",
    "           restart = True)\n",
    "\n",
    "foamLoss = computeFoamFieldLossFunc(foamdir=foamdir,\n",
    "                                    ref_df=ref_df,\n",
    "                                    interp_method='nearest',\n",
    "                                    read_cell_centres=False)\n",
    "np.random.seed(7)\n",
    "a1_rand = np.random.uniform(.248, .372, size=(n_points_sampled))\n",
    "betaStar_rand = np.random.uniform(.072, .108, size=(n_points_sampled))\n",
    "score_best = 1E6 \n",
    "\n",
    "for i in range(iterations):\n",
    "    if i == 0:\n",
    "        search_point=load_coeff_default(directory=tunerdir)\n",
    "        write_suggestion(directory=tunerdir, suggestion=search_point)\n",
    "    elif i < n_points_sampled:\n",
    "        search_point = {\"a1\": a1_rand[i], \"betaStar\": betaStar_rand[i]}\n",
    "        write_suggestion(directory=tunerdir, suggestion=search_point)\n",
    "    else:\n",
    "        suggest(directory=tunerdir, random_state=7,utility_kind = utility, xi=xi)\n",
    "    \n",
    "    search_point = load_suggestion(directory=tunerdir)\n",
    "    print(search_point)\n",
    "    set_foam_coef(foamdir,search_point)\n",
    "    last_time = run_until_convergence(case=foamdir, n_proc = 8)\n",
    "    score = -foamLoss.foam_gedcp(foamtime=last_time,\n",
    "                                                   coef_default_dict = load_coeff_default(directory=tunerdir),\n",
    "                                                   coef_dict=search_point,\n",
    "                                                   error_calc_fields=[],\n",
    "                                                   error_calc_intparams=['Cl'],\n",
    "                                                   error_type = 'mape'\n",
    "                                                  )\n",
    "                                                   \n",
    "    register_score(score=score, directory=tunerdir)\n",
    "    if abs(score) < abs(score_best):   \n",
    "        score_best = score\n",
    "        os.system(f'rm -r {savedir}')\n",
    "        os.system(f'cp -r {foamdir} {savedir}')\n",
    "\n",
    "    "
   ]
  }
 ],
 "metadata": {
  "kernelspec": {
   "display_name": "Python 3 (ipykernel)",
   "language": "python",
   "name": "python3"
  },
  "language_info": {
   "codemirror_mode": {
    "name": "ipython",
    "version": 3
   },
   "file_extension": ".py",
   "mimetype": "text/x-python",
   "name": "python",
   "nbconvert_exporter": "python",
   "pygments_lexer": "ipython3",
   "version": "3.10.4"
  },
  "toc-autonumbering": true
 },
 "nbformat": 4,
 "nbformat_minor": 5
}
